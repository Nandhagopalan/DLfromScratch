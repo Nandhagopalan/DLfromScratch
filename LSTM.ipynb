{
  "nbformat": 4,
  "nbformat_minor": 0,
  "metadata": {
    "colab": {
      "name": "Untitled1.ipynb",
      "version": "0.3.2",
      "provenance": [],
      "include_colab_link": true
    },
    "kernelspec": {
      "name": "python3",
      "display_name": "Python 3"
    },
    "accelerator": "GPU"
  },
  "cells": [
    {
      "cell_type": "markdown",
      "metadata": {
        "id": "view-in-github",
        "colab_type": "text"
      },
      "source": [
        "<a href=\"https://colab.research.google.com/github/Nandhagopalan/DLfromScratch/blob/master/LSTM.ipynb\" target=\"_parent\"><img src=\"https://colab.research.google.com/assets/colab-badge.svg\" alt=\"Open In Colab\"/></a>"
      ]
    },
    {
      "metadata": {
        "id": "aI5ds58zdkVI",
        "colab_type": "code",
        "colab": {}
      },
      "cell_type": "code",
      "source": [
        "import re\n",
        "from sklearn.feature_extraction.text import TfidfVectorizer\n",
        "from keras.preprocessing.text import Tokenizer\n",
        "from keras.preprocessing import sequence\n",
        "import numpy as np\n",
        "from sklearn import svm\n",
        "from scipy.sparse import vstack\n",
        "import pickle\n",
        "import time\n",
        "import pandas as pd\n",
        "from sklearn.model_selection import train_test_split\n",
        "from sklearn.metrics import confusion_matrix, precision_recall_curve\n",
        "from sklearn.metrics import recall_score, classification_report, auc, roc_curve\n",
        "from sklearn.metrics import precision_recall_fscore_support, f1_score\n",
        "from sklearn.preprocessing import StandardScaler\n",
        "from pylab import rcParams\n",
        "from keras.models import Model, load_model\n",
        "from keras.layers import Input, Dense,Embedding,Flatten,LSTM,TimeDistributed\n",
        "from keras.callbacks import ModelCheckpoint, TensorBoard,EarlyStopping\n",
        "from keras import regularizers\n",
        "import matplotlib.pyplot as plt\n",
        "import seaborn as sns\n",
        "from sklearn.metrics import confusion_matrix, precision_recall_curve,f1_score,precision_score\n",
        "import numpy as np\n",
        "from pandas import Series\n",
        "from gensim.models.doc2vec import Doc2Vec\n",
        "from sklearn.metrics import roc_curve\n",
        "from sklearn.metrics import roc_auc_score\n",
        "from sklearn.metrics import precision_recall_curve\n",
        "from keras import backend as K\n",
        "import json\n",
        "from keras.layers.normalization import BatchNormalization\n",
        "import pickle"
      ],
      "execution_count": 0,
      "outputs": []
    },
    {
      "metadata": {
        "id": "SrGeOYOmeISp",
        "colab_type": "code",
        "colab": {}
      },
      "cell_type": "code",
      "source": [
        "with open('train.pkl','rb') as f:\n",
        " data=pickle.load(f)"
      ],
      "execution_count": 0,
      "outputs": []
    },
    {
      "metadata": {
        "id": "-hu5IJPqg_l1",
        "colab_type": "code",
        "colab": {}
      },
      "cell_type": "code",
      "source": [
        "with open('test.pkl','rb') as f:\n",
        " test=pickle.load(f)"
      ],
      "execution_count": 0,
      "outputs": []
    },
    {
      "metadata": {
        "id": "MV6hu98LeYB1",
        "colab_type": "code",
        "colab": {
          "base_uri": "https://localhost:8080/",
          "height": 34
        },
        "outputId": "bf8cf3dd-f55f-40be-9242-98cff29fe3d7"
      },
      "cell_type": "code",
      "source": [
        "data.shape"
      ],
      "execution_count": 12,
      "outputs": [
        {
          "output_type": "execute_result",
          "data": {
            "text/plain": [
              "(11216, 30)"
            ]
          },
          "metadata": {
            "tags": []
          },
          "execution_count": 12
        }
      ]
    },
    {
      "metadata": {
        "id": "z6JQD8NAel46",
        "colab_type": "code",
        "colab": {
          "base_uri": "https://localhost:8080/",
          "height": 1346
        },
        "outputId": "eb8c7eb7-b2bb-4886-a8b2-b86bae9a7b90"
      },
      "cell_type": "code",
      "source": [
        "nb_epoch = 100\n",
        "batch_size = 128\n",
        "timesteps = 30\n",
        "embedding_length = 100\n",
        "vocab=3198\n",
        "\n",
        "inputs=Input(name='inputs',shape=[timesteps,])\n",
        "embedding=Embedding(vocab, embedding_length, input_length=timesteps)(inputs)\n",
        "\n",
        "encoded1=LSTM(64, activation='relu',return_sequences=True)(embedding)\n",
        "encoded2=LSTM(32, activation='relu', return_sequences=True)(encoded1)\n",
        "#encoded3=LSTM(128, activation='relu',return_sequences=True)(encoded2)\n",
        "\n",
        "\n",
        "decoder1=LSTM(32, activation='relu',return_sequences=True)(encoded2)\n",
        "decoder2=LSTM(64, activation='relu',return_sequences=True)(decoder1)\n",
        "#decoder3=LSTM(512, activation='relu',return_sequences=True)(decoder2)\n",
        "flat=Flatten()(decoder2)\n",
        "output=Dense(timesteps)(flat)\n",
        "#timedist=TimeDistributed(Dense(1))(flat)\n",
        "#output=Flatten()(timedist)\n",
        "\n",
        "sequence_autoencoder = Model(inputs, output)\n",
        "\n",
        "sequence_autoencoder.compile(metrics=['accuracy'],\n",
        "                    loss='mean_squared_error',\n",
        "                    optimizer='adam')\n",
        "\n",
        "print(sequence_autoencoder.summary())\n",
        "\n",
        " #Set callback functions to early stop training and save the best model so far\n",
        "callbacks = [EarlyStopping(monitor='val_loss', patience=20),\n",
        "             ModelCheckpoint(filepath=\"ericsson_autoencoder.h5\",\n",
        "                               save_best_only=True,\n",
        "                               verbose=0)]\n",
        "\n",
        "\n",
        "history=sequence_autoencoder.fit(data, data,\n",
        "                    epochs=nb_epoch,\n",
        "                    batch_size=batch_size,\n",
        "                    validation_data=(test, test),\n",
        "                    verbose=1,\n",
        "                    callbacks=callbacks).history\n",
        "                          \n",
        "'''\n",
        "Saving the json model\n",
        "'''\n",
        "\n",
        "with open('eric_def.json','w') as ff:\n",
        "    json_string = sequence_autoencoder.to_json()\n",
        "    ff.write(json_string)\n",
        "                          "
      ],
      "execution_count": 32,
      "outputs": [
        {
          "output_type": "stream",
          "text": [
            "_________________________________________________________________\n",
            "Layer (type)                 Output Shape              Param #   \n",
            "=================================================================\n",
            "inputs (InputLayer)          (None, 30)                0         \n",
            "_________________________________________________________________\n",
            "embedding_14 (Embedding)     (None, 30, 100)           319800    \n",
            "_________________________________________________________________\n",
            "lstm_57 (LSTM)               (None, 30, 64)            42240     \n",
            "_________________________________________________________________\n",
            "lstm_58 (LSTM)               (None, 30, 32)            12416     \n",
            "_________________________________________________________________\n",
            "lstm_59 (LSTM)               (None, 30, 32)            8320      \n",
            "_________________________________________________________________\n",
            "lstm_60 (LSTM)               (None, 30, 64)            24832     \n",
            "_________________________________________________________________\n",
            "flatten_6 (Flatten)          (None, 1920)              0         \n",
            "_________________________________________________________________\n",
            "dense_13 (Dense)             (None, 30)                57630     \n",
            "=================================================================\n",
            "Total params: 465,238\n",
            "Trainable params: 465,238\n",
            "Non-trainable params: 0\n",
            "_________________________________________________________________\n",
            "None\n",
            "Train on 11216 samples, validate on 2808 samples\n",
            "Epoch 1/100\n",
            "11216/11216 [==============================] - 35s 3ms/step - loss: 78893.3654 - acc: 0.2169 - val_loss: 43042.9521 - val_acc: 0.2710\n",
            "Epoch 2/100\n",
            "11216/11216 [==============================] - 27s 2ms/step - loss: 64603.4134 - acc: 0.3237 - val_loss: 42937.3586 - val_acc: 0.2710\n",
            "Epoch 3/100\n",
            "11216/11216 [==============================] - 27s 2ms/step - loss: 53308.1267 - acc: 0.3242 - val_loss: 42473.4588 - val_acc: 0.2710\n",
            "Epoch 4/100\n",
            "11216/11216 [==============================] - 27s 2ms/step - loss: 50108.8226 - acc: 0.3235 - val_loss: 45892.9225 - val_acc: 0.2696\n",
            "Epoch 5/100\n",
            "11216/11216 [==============================] - 27s 2ms/step - loss: 47751.8303 - acc: 0.3360 - val_loss: 45954.0971 - val_acc: 0.2707\n",
            "Epoch 6/100\n",
            "11216/11216 [==============================] - 27s 2ms/step - loss: 50479.1725 - acc: 0.3551 - val_loss: 40986.0303 - val_acc: 0.2714\n",
            "Epoch 7/100\n",
            "11216/11216 [==============================] - 27s 2ms/step - loss: 68398.5011 - acc: 0.2660 - val_loss: 52551.1121 - val_acc: 0.3401\n",
            "Epoch 8/100\n",
            "11216/11216 [==============================] - 27s 2ms/step - loss: 57660.5467 - acc: 0.3178 - val_loss: 55025.9550 - val_acc: 0.2710\n",
            "Epoch 9/100\n",
            "11216/11216 [==============================] - 27s 2ms/step - loss: 48730.8685 - acc: 0.3277 - val_loss: 109125.8573 - val_acc: 0.2753\n",
            "Epoch 10/100\n",
            "11216/11216 [==============================] - 27s 2ms/step - loss: 44080.5898 - acc: 0.3518 - val_loss: 135607.8245 - val_acc: 0.2699\n",
            "Epoch 11/100\n",
            "11216/11216 [==============================] - 28s 2ms/step - loss: 40660.2318 - acc: 0.3355 - val_loss: 198042.4236 - val_acc: 0.2710\n",
            "Epoch 12/100\n",
            "11216/11216 [==============================] - 28s 2ms/step - loss: 46150.1669 - acc: 0.3392 - val_loss: 278808.7273 - val_acc: 0.2746\n",
            "Epoch 13/100\n",
            "11216/11216 [==============================] - 28s 2ms/step - loss: 40483.6615 - acc: 0.3785 - val_loss: 243251.5947 - val_acc: 0.2678\n",
            "Epoch 14/100\n",
            "11216/11216 [==============================] - 27s 2ms/step - loss: 35193.6525 - acc: 0.3646 - val_loss: 288414.5603 - val_acc: 0.2870\n",
            "Epoch 15/100\n",
            "11216/11216 [==============================] - 28s 2ms/step - loss: 34895.0330 - acc: 0.3889 - val_loss: 290266.4745 - val_acc: 0.2678\n",
            "Epoch 16/100\n",
            "11216/11216 [==============================] - 27s 2ms/step - loss: 33232.8371 - acc: 0.4059 - val_loss: 248712.4545 - val_acc: 0.2735\n",
            "Epoch 17/100\n",
            "11216/11216 [==============================] - 27s 2ms/step - loss: 32514.4344 - acc: 0.3941 - val_loss: 741302.9624 - val_acc: 0.2511\n",
            "Epoch 18/100\n",
            "11216/11216 [==============================] - 27s 2ms/step - loss: 38024.5650 - acc: 0.3352 - val_loss: 284935.0568 - val_acc: 0.2578\n",
            "Epoch 19/100\n",
            "11216/11216 [==============================] - 27s 2ms/step - loss: 1102464.0342 - acc: 0.2811 - val_loss: 46357053.1054 - val_acc: 0.4323\n",
            "Epoch 20/100\n",
            "11216/11216 [==============================] - 27s 2ms/step - loss: 2912953.1383 - acc: 0.4263 - val_loss: 378534.0639 - val_acc: 0.4719\n",
            "Epoch 21/100\n",
            "11216/11216 [==============================] - 27s 2ms/step - loss: 58037.6089 - acc: 0.3593 - val_loss: 149172.2690 - val_acc: 0.4697\n",
            "Epoch 22/100\n",
            "11216/11216 [==============================] - 27s 2ms/step - loss: 53825.8524 - acc: 0.3192 - val_loss: 121373.6912 - val_acc: 0.2657\n",
            "Epoch 23/100\n",
            "11216/11216 [==============================] - 27s 2ms/step - loss: 61530.5275 - acc: 0.2373 - val_loss: 85009.6358 - val_acc: 0.3632\n",
            "Epoch 24/100\n",
            "11216/11216 [==============================] - 27s 2ms/step - loss: 55786.0779 - acc: 0.3261 - val_loss: 111873.0282 - val_acc: 0.2678\n",
            "Epoch 25/100\n",
            "11216/11216 [==============================] - 27s 2ms/step - loss: 50452.3041 - acc: 0.3255 - val_loss: 105071.7678 - val_acc: 0.2667\n",
            "Epoch 26/100\n",
            "11216/11216 [==============================] - 27s 2ms/step - loss: 46188.2322 - acc: 0.3374 - val_loss: 125473.9604 - val_acc: 0.2678\n"
          ],
          "name": "stdout"
        }
      ]
    },
    {
      "metadata": {
        "id": "76zAscuwtvG5",
        "colab_type": "text"
      },
      "cell_type": "markdown",
      "source": [
        ""
      ]
    },
    {
      "metadata": {
        "id": "5OfpGhS3hNOy",
        "colab_type": "code",
        "colab": {}
      },
      "cell_type": "code",
      "source": [
        ""
      ],
      "execution_count": 0,
      "outputs": []
    }
  ]
}