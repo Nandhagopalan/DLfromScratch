{
 "cells": [
  {
   "cell_type": "code",
   "execution_count": 1,
   "metadata": {},
   "outputs": [],
   "source": [
    "import warnings\n",
    "warnings.filterwarnings('ignore')\n",
    "\n",
    "import numpy as np\n",
    "import tensorflow as tf\n",
    "\n",
    "from tensorflow.examples.tutorials.mnist import input_data\n",
    "tf.logging.set_verbosity(tf.logging.ERROR)\n",
    "tf.reset_default_graph()\n",
    "\n",
    "import matplotlib.pyplot as plt\n",
    "%matplotlib inline\n",
    "\n",
    "from IPython import display"
   ]
  },
  {
   "cell_type": "code",
   "execution_count": 2,
   "metadata": {},
   "outputs": [
    {
     "name": "stdout",
     "output_type": "stream",
     "text": [
      "Extracting data/mnist/train-images-idx3-ubyte.gz\n",
      "Extracting data/mnist/train-labels-idx1-ubyte.gz\n",
      "Extracting data/mnist/t10k-images-idx3-ubyte.gz\n",
      "Extracting data/mnist/t10k-labels-idx1-ubyte.gz\n"
     ]
    }
   ],
   "source": [
    "data = input_data.read_data_sets(\"data/mnist\",one_hot=True)"
   ]
  },
  {
   "cell_type": "code",
   "execution_count": 3,
   "metadata": {},
   "outputs": [],
   "source": [
    "#Generator\n",
    "\n",
    "def generator(z, c,reuse=False):\n",
    "    with tf.variable_scope('generator', reuse=reuse):\n",
    "        \n",
    "        #initialize weights\n",
    "        w_init = tf.contrib.layers.xavier_initializer()\n",
    "        \n",
    "        #concatenate noize z and conditional  variable c to form an input\n",
    "        inputs = tf.concat([z, c], 1)\n",
    "        \n",
    "        #define the first layer with relu activation\n",
    "        dense1 = tf.layers.dense(inputs, 128, kernel_initializer=w_init)\n",
    "        relu1 = tf.nn.relu(dense1)\n",
    "        \n",
    "        #define the second layer and compute the output using the tanh activation function\n",
    "        logits = tf.layers.dense(relu1, 784, kernel_initializer=w_init)\n",
    "        output = tf.nn.tanh(logits)\n",
    "\n",
    "        return output"
   ]
  },
  {
   "cell_type": "code",
   "execution_count": 4,
   "metadata": {},
   "outputs": [],
   "source": [
    "#Discriminator\n",
    "\n",
    "def discriminator(x, c, reuse=False):\n",
    "    with tf.variable_scope('discriminator', reuse=reuse):\n",
    "        \n",
    "        #initialize weights\n",
    "        w_init = tf.contrib.layers.xavier_initializer()\n",
    "        \n",
    "        #concatenate noize z and conditional variable c to form an input\n",
    "        inputs = tf.concat([x, c], 1)\n",
    "    \n",
    "        #define the first layer with the relu activation\n",
    "        dense1 = tf.layers.dense(inputs, 128, kernel_initializer=w_init)\n",
    "        relu1 = tf.nn.relu(dense1)\n",
    "        \n",
    "        #define the second layer and compute the output using sigmoid activation function\n",
    "        logits = tf.layers.dense(relu1, 1, kernel_initializer=w_init)\n",
    "        output = tf.nn.sigmoid(logits)\n",
    "\n",
    "        return logits"
   ]
  },
  {
   "cell_type": "code",
   "execution_count": 5,
   "metadata": {},
   "outputs": [],
   "source": [
    "x = tf.placeholder(tf.float32, shape=(None, 784))\n",
    "c = tf.placeholder(tf.float32, shape=(None, 10))\n",
    "z = tf.placeholder(tf.float32, shape=(None, 100))"
   ]
  },
  {
   "cell_type": "code",
   "execution_count": 6,
   "metadata": {},
   "outputs": [],
   "source": [
    "fake_x = generator(z, c)"
   ]
  },
  {
   "cell_type": "code",
   "execution_count": 7,
   "metadata": {},
   "outputs": [],
   "source": [
    "D_logits_real = discriminator(x,c) "
   ]
  },
  {
   "cell_type": "code",
   "execution_count": 8,
   "metadata": {},
   "outputs": [],
   "source": [
    "D_logits_fake = discriminator(fake_x, c, reuse=True)"
   ]
  },
  {
   "cell_type": "code",
   "execution_count": 9,
   "metadata": {},
   "outputs": [],
   "source": [
    "#Discriminator loss\n",
    "D_loss_real = tf.reduce_mean(tf.nn.sigmoid_cross_entropy_with_logits(logits=D_logits_real,\n",
    "                                                                     labels=tf.ones_like(D_logits_real)))"
   ]
  },
  {
   "cell_type": "code",
   "execution_count": 10,
   "metadata": {},
   "outputs": [],
   "source": [
    "D_loss_fake = tf.reduce_mean(tf.nn.sigmoid_cross_entropy_with_logits(logits=D_logits_fake,\n",
    "                                                                     labels=tf.zeros_like(D_logits_fake)))"
   ]
  },
  {
   "cell_type": "code",
   "execution_count": 11,
   "metadata": {},
   "outputs": [],
   "source": [
    "D_loss = D_loss_real + D_loss_fake"
   ]
  },
  {
   "cell_type": "code",
   "execution_count": 12,
   "metadata": {},
   "outputs": [],
   "source": [
    "#Generator loss\n",
    "G_loss = tf.reduce_mean(tf.nn.sigmoid_cross_entropy_with_logits(logits=D_logits_fake,\n",
    "                                                                labels=tf.ones_like(D_logits_fake)))"
   ]
  },
  {
   "cell_type": "code",
   "execution_count": 13,
   "metadata": {},
   "outputs": [],
   "source": [
    "training_vars = tf.trainable_variables()\n",
    "theta_D = [var for var in training_vars if var.name.startswith('discriminator')]\n",
    "theta_G = [var for var in training_vars if var.name.startswith('generator')]"
   ]
  },
  {
   "cell_type": "code",
   "execution_count": 14,
   "metadata": {},
   "outputs": [],
   "source": [
    "D_optimizer = tf.train.AdamOptimizer(0.001, beta1=0.5).minimize(D_loss, var_list=theta_D)\n",
    "G_optimizer = tf.train.AdamOptimizer(0.001, beta1=0.5).minimize(G_loss, var_list=theta_G)"
   ]
  },
  {
   "cell_type": "code",
   "execution_count": 15,
   "metadata": {},
   "outputs": [],
   "source": [
    "session = tf.InteractiveSession()\n",
    "tf.global_variables_initializer().run()"
   ]
  },
  {
   "cell_type": "code",
   "execution_count": 23,
   "metadata": {},
   "outputs": [],
   "source": [
    "batch_size = 128\n",
    "num_epochs = 10\n",
    "num_classes = 10"
   ]
  },
  {
   "cell_type": "code",
   "execution_count": 24,
   "metadata": {},
   "outputs": [],
   "source": [
    "images = data.train.images\n",
    "labels = data.train.labels"
   ]
  },
  {
   "cell_type": "code",
   "execution_count": 25,
   "metadata": {},
   "outputs": [
    {
     "data": {
      "text/plain": [
       "(55000, 784)"
      ]
     },
     "execution_count": 25,
     "metadata": {},
     "output_type": "execute_result"
    }
   ],
   "source": [
    "images.shape"
   ]
  },
  {
   "cell_type": "code",
   "execution_count": 26,
   "metadata": {},
   "outputs": [],
   "source": [
    "label_to_generate = 7\n",
    "onehot = np.eye(10)"
   ]
  },
  {
   "cell_type": "code",
   "execution_count": 27,
   "metadata": {},
   "outputs": [
    {
     "data": {
      "text/plain": [
       "array([[1., 0., 0., 0., 0., 0., 0., 0., 0., 0.],\n",
       "       [0., 1., 0., 0., 0., 0., 0., 0., 0., 0.],\n",
       "       [0., 0., 1., 0., 0., 0., 0., 0., 0., 0.],\n",
       "       [0., 0., 0., 1., 0., 0., 0., 0., 0., 0.],\n",
       "       [0., 0., 0., 0., 1., 0., 0., 0., 0., 0.],\n",
       "       [0., 0., 0., 0., 0., 1., 0., 0., 0., 0.],\n",
       "       [0., 0., 0., 0., 0., 0., 1., 0., 0., 0.],\n",
       "       [0., 0., 0., 0., 0., 0., 0., 1., 0., 0.],\n",
       "       [0., 0., 0., 0., 0., 0., 0., 0., 1., 0.],\n",
       "       [0., 0., 0., 0., 0., 0., 0., 0., 0., 1.]])"
      ]
     },
     "execution_count": 27,
     "metadata": {},
     "output_type": "execute_result"
    }
   ],
   "source": [
    "onehot"
   ]
  },
  {
   "cell_type": "code",
   "execution_count": null,
   "metadata": {},
   "outputs": [
    {
     "data": {
      "image/png": "[encoded data removed]",
      "text/plain": [
       "<Figure size 432x288 with 1 Axes>"
      ]
     },
     "metadata": {
      "needs_background": "light"
     },
     "output_type": "display_data"
    }
   ],
   "source": [
    "for epoch in range(num_epochs):\n",
    "\n",
    "    for i in range(len(images) // batch_size):\n",
    "        \n",
    "        #sample images\n",
    "        batch_image = images[i * batch_size:(i + 1) * batch_size]\n",
    "        \n",
    "        #sample the condition that is, digit we want to generate\n",
    "        batch_c = labels[i * batch_size:(i + 1) * batch_size]\n",
    "        \n",
    "        #sample noise\n",
    "        batch_noise = np.random.normal(0, 1, (batch_size, 100))\n",
    "        \n",
    "        #train the generator\n",
    "        generator_loss, _ = session.run([D_loss, D_optimizer], {x: batch_image, c: batch_c, z: batch_noise})\n",
    "           \n",
    "        #train the discriminator\n",
    "        discriminator_loss, _ = session.run([G_loss, G_optimizer],  {x: batch_image, c: batch_c, z: batch_noise})\n",
    "    \n",
    "    #sample noise\n",
    "    noise = np.random.rand(1,100)\n",
    "    \n",
    "    #select specific digit\n",
    "    gen_label = np.array([[label_to_generate]]).reshape(-1)\n",
    "    \n",
    "    #convert the selected digit\n",
    "    one_hot_targets = np.eye(num_classes)[gen_label]\n",
    "    \n",
    "    print(\"es\",one_hot_targets)\n",
    "    \n",
    "    #Feed the noise and one hot encoded condition to the generator and generate the fake image\n",
    "    _fake_x = session.run(fake_x, {z: noise, c: one_hot_targets})\n",
    "    _fake_x = _fake_x.reshape(28,28)\n",
    "    \n",
    "   \n",
    "    \n",
    "    print(\"Epoch: {},Discriminator Loss:{}, Generator Loss: {}\".format(epoch,discriminator_loss,generator_loss))\n",
    "    \n",
    "    #plot the generated image\n",
    "    display.clear_output(wait=True)\n",
    "    plt.imshow(_fake_x) \n",
    "    plt.show()"
   ]
  },
  {
   "cell_type": "code",
   "execution_count": null,
   "metadata": {},
   "outputs": [],
   "source": []
  }
 ],
 "metadata": {
  "kernelspec": {
   "display_name": "Python 3",
   "language": "python",
   "name": "python3"
  },
  "language_info": {
   "codemirror_mode": {
    "name": "ipython",
    "version": 3
   },
   "file_extension": ".py",
   "mimetype": "text/x-python",
   "name": "python",
   "nbconvert_exporter": "python",
   "pygments_lexer": "ipython3",
   "version": "3.6.3"
  }
 },
 "nbformat": 4,
 "nbformat_minor": 2
}
