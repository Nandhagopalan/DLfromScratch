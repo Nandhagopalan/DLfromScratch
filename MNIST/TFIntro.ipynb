{
 "cells": [
  {
   "cell_type": "code",
   "execution_count": 1,
   "metadata": {},
   "outputs": [],
   "source": [
    "import tensorflow as tf\n",
    "import warnings\n",
    "warnings.filterwarnings('ignore')\n",
    "\n",
    "from tensorflow.examples.tutorials.mnist import input_data\n",
    "tf.logging.set_verbosity(tf.logging.ERROR)\n",
    "\n",
    "import matplotlib.pyplot as plt\n",
    "%matplotlib inline"
   ]
  },
  {
   "cell_type": "code",
   "execution_count": 2,
   "metadata": {},
   "outputs": [
    {
     "name": "stdout",
     "output_type": "stream",
     "text": [
      "1.14.0\n"
     ]
    }
   ],
   "source": [
    "print(tf.__version__)"
   ]
  },
  {
   "cell_type": "code",
   "execution_count": 3,
   "metadata": {},
   "outputs": [],
   "source": [
    "x=tf.constant(1,name='x')\n",
    "y=tf.constant(2,name='y')\n",
    "a=tf.constant(3,name='a')\n",
    "b=tf.constant(4,name='b')"
   ]
  },
  {
   "cell_type": "code",
   "execution_count": 4,
   "metadata": {},
   "outputs": [],
   "source": [
    "prod1=tf.multiply(x,y,name='prod1')\n",
    "prod2=tf.multiply(a,b,name='prod2')"
   ]
  },
  {
   "cell_type": "code",
   "execution_count": 6,
   "metadata": {},
   "outputs": [],
   "source": [
    "sumtensor=tf.add(prod1,prod2,name='sum')"
   ]
  },
  {
   "cell_type": "code",
   "execution_count": 10,
   "metadata": {},
   "outputs": [
    {
     "name": "stdout",
     "output_type": "stream",
     "text": [
      "14\n"
     ]
    }
   ],
   "source": [
    "with tf.Session() as sess:\n",
    "    writer=tf.summary.FileWriter(logdir='./graphs',graph=sess.graph)\n",
    "    print(sess.run(sumtensor))"
   ]
  },
  {
   "cell_type": "markdown",
   "metadata": {},
   "source": [
    "Loading the mnist dataset"
   ]
  },
  {
   "cell_type": "code",
   "execution_count": 3,
   "metadata": {},
   "outputs": [
    {
     "name": "stdout",
     "output_type": "stream",
     "text": [
      "Successfully downloaded train-images-idx3-ubyte.gz 9912422 bytes.\n",
      "Extracting data/mnist/train-images-idx3-ubyte.gz\n",
      "Successfully downloaded train-labels-idx1-ubyte.gz 28881 bytes.\n",
      "Extracting data/mnist/train-labels-idx1-ubyte.gz\n",
      "Successfully downloaded t10k-images-idx3-ubyte.gz 1648877 bytes.\n",
      "Extracting data/mnist/t10k-images-idx3-ubyte.gz\n",
      "Successfully downloaded t10k-labels-idx1-ubyte.gz 4542 bytes.\n",
      "Extracting data/mnist/t10k-labels-idx1-ubyte.gz\n"
     ]
    }
   ],
   "source": [
    "mnist = input_data.read_data_sets(\"data/mnist\", one_hot=True)"
   ]
  },
  {
   "cell_type": "code",
   "execution_count": 4,
   "metadata": {},
   "outputs": [
    {
     "name": "stdout",
     "output_type": "stream",
     "text": [
      "No of images in training set (55000, 784)\n",
      "No of labels in training set (55000, 10)\n",
      "No of images in test set (10000, 784)\n",
      "No of labels in test set (10000, 10)\n"
     ]
    }
   ],
   "source": [
    "print(\"No of images in training set {}\".format(mnist.train.images.shape))\n",
    "print(\"No of labels in training set {}\".format(mnist.train.labels.shape))\n",
    "\n",
    "print(\"No of images in test set {}\".format(mnist.test.images.shape))\n",
    "print(\"No of labels in test set {}\".format(mnist.test.labels.shape))"
   ]
  },
  {
   "cell_type": "code",
   "execution_count": 5,
   "metadata": {},
   "outputs": [
    {
     "data": {
      "text/plain": [
       "<matplotlib.image.AxesImage at 0x7fc36138c780>"
      ]
     },
     "execution_count": 5,
     "metadata": {},
     "output_type": "execute_result"
    },
    {
     "data": {
      "image/png": "[encoded data removed]",
      "text/plain": [
       "<Figure size 432x288 with 1 Axes>"
      ]
     },
     "metadata": {
      "needs_background": "light"
     },
     "output_type": "display_data"
    }
   ],
   "source": [
    "img1 = mnist.train.images[0].reshape(28,28)\n",
    "plt.imshow(img1, cmap='Greys')"
   ]
  },
  {
   "cell_type": "code",
   "execution_count": 6,
   "metadata": {},
   "outputs": [],
   "source": [
    "#number of neurons in input layer\n",
    "num_input = 784  \n",
    "\n",
    "#number of neurons in hidden layer 1\n",
    "num_hidden1 = 512  \n",
    "\n",
    "#number of neurons in hidden layer 2\n",
    "num_hidden2 = 256  \n",
    "\n",
    "#number of neurons in hidden layer 3\n",
    "num_hidden_3 = 128  \n",
    "\n",
    "#number of neurons in output layer\n",
    "num_output = 10"
   ]
  },
  {
   "cell_type": "code",
   "execution_count": 7,
   "metadata": {},
   "outputs": [],
   "source": [
    "with tf.name_scope('input'):\n",
    "    X = tf.placeholder(\"float\", [None, num_input])\n",
    "\n",
    "with tf.name_scope('output'):\n",
    "    Y = tf.placeholder(\"float\", [None, num_output])\n"
   ]
  },
  {
   "cell_type": "code",
   "execution_count": 8,
   "metadata": {},
   "outputs": [],
   "source": [
    "with tf.name_scope('weights'):\n",
    "    \n",
    "        weights = {\n",
    "        'w1': tf.Variable(tf.truncated_normal([num_input, num_hidden1], stddev=0.1),name='weight_1'),\n",
    "        'w2': tf.Variable(tf.truncated_normal([num_hidden1, num_hidden2], stddev=0.1),name='weight_2'),\n",
    "        'w3': tf.Variable(tf.truncated_normal([num_hidden2, num_hidden_3], stddev=0.1),name='weight_3'),\n",
    "        'out': tf.Variable(tf.truncated_normal([num_hidden_3, num_output], stddev=0.1),name='weight_4'),\n",
    "    }"
   ]
  },
  {
   "cell_type": "code",
   "execution_count": 9,
   "metadata": {},
   "outputs": [],
   "source": [
    "with tf.name_scope('biases'):\n",
    "\n",
    "    biases = {\n",
    "        'b1': tf.Variable(tf.constant(0.1, shape=[num_hidden1]),name='bias_1'),\n",
    "        'b2': tf.Variable(tf.constant(0.1, shape=[num_hidden2]),name='bias_2'),\n",
    "        'b3': tf.Variable(tf.constant(0.1, shape=[num_hidden_3]),name='bias_3'),\n",
    "        'out': tf.Variable(tf.constant(0.1, shape=[num_output]),name='bias_4')\n",
    "    }"
   ]
  },
  {
   "cell_type": "code",
   "execution_count": 10,
   "metadata": {},
   "outputs": [],
   "source": [
    "with tf.name_scope('Model'):\n",
    "    \n",
    "    with tf.name_scope('layer1'):\n",
    "        layer_1 = tf.nn.relu(tf.add(tf.matmul(X, weights['w1']), biases['b1']) )   \n",
    "    \n",
    "    with tf.name_scope('layer2'):\n",
    "        layer_2 = tf.nn.relu(tf.add(tf.matmul(layer_1, weights['w2']), biases['b2']))\n",
    "        \n",
    "    with tf.name_scope('layer3'):\n",
    "        layer_3 = tf.nn.relu(tf.add(tf.matmul(layer_2, weights['w3']), biases['b3']))\n",
    "        \n",
    "    with tf.name_scope('output_layer'):\n",
    "         y_hat = tf.nn.sigmoid(tf.matmul(layer_3, weights['out']) + biases['out'])\n",
    "\n"
   ]
  },
  {
   "cell_type": "code",
   "execution_count": 11,
   "metadata": {},
   "outputs": [],
   "source": [
    "with tf.name_scope('Loss'):\n",
    "        loss = tf.reduce_mean(tf.nn.softmax_cross_entropy_with_logits(logits=y_hat,labels=Y))\n"
   ]
  },
  {
   "cell_type": "code",
   "execution_count": 12,
   "metadata": {},
   "outputs": [],
   "source": [
    "optimizer = tf.train.AdamOptimizer(1e-4).minimize(loss)"
   ]
  },
  {
   "cell_type": "code",
   "execution_count": 13,
   "metadata": {},
   "outputs": [],
   "source": [
    "with tf.name_scope('Accuracy'):\n",
    "    \n",
    "    predicted_digit = tf.argmax(y_hat, 1)\n",
    "    actual_digit = tf.argmax(Y, 1)\n",
    "    \n",
    "    correct_pred = tf.equal(predicted_digit,actual_digit)\n",
    "    accuracy = tf.reduce_mean(tf.cast(correct_pred, tf.float32))"
   ]
  },
  {
   "cell_type": "code",
   "execution_count": 14,
   "metadata": {},
   "outputs": [
    {
     "data": {
      "text/plain": [
       "<tf.Tensor 'Loss_1:0' shape=() dtype=string>"
      ]
     },
     "execution_count": 14,
     "metadata": {},
     "output_type": "execute_result"
    }
   ],
   "source": [
    "tf.summary.scalar(\"Accuracy\", accuracy)\n",
    "\n",
    "tf.summary.scalar(\"Loss\", loss)"
   ]
  },
  {
   "cell_type": "code",
   "execution_count": 15,
   "metadata": {},
   "outputs": [],
   "source": [
    "merge_summary = tf.summary.merge_all()"
   ]
  },
  {
   "cell_type": "code",
   "execution_count": 20,
   "metadata": {},
   "outputs": [],
   "source": [
    "batch_size = 128\n",
    "num_iterations = 5000\n",
    "init = tf.global_variables_initializer()"
   ]
  },
  {
   "cell_type": "code",
   "execution_count": 21,
   "metadata": {},
   "outputs": [
    {
     "name": "stdout",
     "output_type": "stream",
     "text": [
      "Iteration: 0, Loss: 2.272928237915039, Accuracy: 0.125\n",
      "Iteration: 100, Loss: 1.746715784072876, Accuracy: 0.8125\n",
      "Iteration: 200, Loss: 1.6443393230438232, Accuracy: 0.8828125\n",
      "Iteration: 300, Loss: 1.5753722190856934, Accuracy: 0.9296875\n",
      "Iteration: 400, Loss: 1.5484236478805542, Accuracy: 0.9296875\n",
      "Iteration: 500, Loss: 1.567568063735962, Accuracy: 0.90625\n",
      "Iteration: 600, Loss: 1.5653436183929443, Accuracy: 0.8984375\n",
      "Iteration: 700, Loss: 1.5457651615142822, Accuracy: 0.9375\n",
      "Iteration: 800, Loss: 1.5617979764938354, Accuracy: 0.90625\n",
      "Iteration: 900, Loss: 1.5407490730285645, Accuracy: 0.921875\n",
      "Iteration: 1000, Loss: 1.5328903198242188, Accuracy: 0.9453125\n",
      "Iteration: 1100, Loss: 1.5075762271881104, Accuracy: 0.96875\n",
      "Iteration: 1200, Loss: 1.5373607873916626, Accuracy: 0.9296875\n",
      "Iteration: 1300, Loss: 1.5170516967773438, Accuracy: 0.9609375\n",
      "Iteration: 1400, Loss: 1.5117862224578857, Accuracy: 0.9453125\n",
      "Iteration: 1500, Loss: 1.501216173171997, Accuracy: 0.96875\n",
      "Iteration: 1600, Loss: 1.487644076347351, Accuracy: 0.9921875\n",
      "Iteration: 1700, Loss: 1.5018213987350464, Accuracy: 0.96875\n",
      "Iteration: 1800, Loss: 1.5093104839324951, Accuracy: 0.96875\n",
      "Iteration: 1900, Loss: 1.502215027809143, Accuracy: 0.96875\n",
      "Iteration: 2000, Loss: 1.5148046016693115, Accuracy: 0.9453125\n",
      "Iteration: 2100, Loss: 1.5107390880584717, Accuracy: 0.9296875\n",
      "Iteration: 2200, Loss: 1.4959468841552734, Accuracy: 0.9765625\n",
      "Iteration: 2300, Loss: 1.5245203971862793, Accuracy: 0.9453125\n",
      "Iteration: 2400, Loss: 1.4811675548553467, Accuracy: 0.9921875\n",
      "Iteration: 2500, Loss: 1.4810757637023926, Accuracy: 0.9921875\n",
      "Iteration: 2600, Loss: 1.497703194618225, Accuracy: 0.96875\n",
      "Iteration: 2700, Loss: 1.4969916343688965, Accuracy: 0.9453125\n",
      "Iteration: 2800, Loss: 1.5001132488250732, Accuracy: 0.9609375\n",
      "Iteration: 2900, Loss: 1.4834274053573608, Accuracy: 0.96875\n",
      "Iteration: 3000, Loss: 1.4834067821502686, Accuracy: 0.9765625\n",
      "Iteration: 3100, Loss: 1.5037099123001099, Accuracy: 0.9453125\n",
      "Iteration: 3200, Loss: 1.4940593242645264, Accuracy: 0.96875\n",
      "Iteration: 3300, Loss: 1.4997708797454834, Accuracy: 0.96875\n",
      "Iteration: 3400, Loss: 1.4839160442352295, Accuracy: 0.96875\n",
      "Iteration: 3500, Loss: 1.4819064140319824, Accuracy: 0.9765625\n",
      "Iteration: 3600, Loss: 1.4723281860351562, Accuracy: 0.9921875\n",
      "Iteration: 3700, Loss: 1.4945380687713623, Accuracy: 0.9609375\n",
      "Iteration: 3800, Loss: 1.496293306350708, Accuracy: 0.96875\n",
      "Iteration: 3900, Loss: 1.4859631061553955, Accuracy: 0.96875\n",
      "Iteration: 4000, Loss: 1.490959644317627, Accuracy: 0.96875\n",
      "Iteration: 4100, Loss: 1.4902582168579102, Accuracy: 0.9609375\n",
      "Iteration: 4200, Loss: 1.5001249313354492, Accuracy: 0.953125\n",
      "Iteration: 4300, Loss: 1.493650197982788, Accuracy: 0.96875\n",
      "Iteration: 4400, Loss: 1.482496738433838, Accuracy: 0.9609375\n",
      "Iteration: 4500, Loss: 1.4822779893875122, Accuracy: 0.96875\n",
      "Iteration: 4600, Loss: 1.4933435916900635, Accuracy: 0.9765625\n",
      "Iteration: 4700, Loss: 1.4778032302856445, Accuracy: 0.9921875\n",
      "Iteration: 4800, Loss: 1.4921674728393555, Accuracy: 0.96875\n",
      "Iteration: 4900, Loss: 1.4725825786590576, Accuracy: 0.9921875\n"
     ]
    }
   ],
   "source": [
    "with tf.Session() as sess:\n",
    "\n",
    "    #run the initializer\n",
    "    sess.run(init)\n",
    "\n",
    "    #save the event files\n",
    "    summary_writer = tf.summary.FileWriter('./graphs', graph=tf.get_default_graph())\n",
    "\n",
    "    #train for some n number of iterations\n",
    "    for i in range(num_iterations):\n",
    "        \n",
    "        #get batch of data according to batch size\n",
    "        batch_x, batch_y = mnist.train.next_batch(batch_size)\n",
    "        \n",
    "        #train the network\n",
    "        sess.run(optimizer, feed_dict={\n",
    "            X: batch_x, Y: batch_y\n",
    "            })\n",
    "\n",
    "        #print loss and accuracy on every 100th iteration\n",
    "        if i % 100 == 0:\n",
    "            \n",
    "            #compute loss, accuracy and summary\n",
    "            batch_loss, batch_accuracy,summary = sess.run(\n",
    "                [loss, accuracy, merge_summary], feed_dict={X: batch_x, Y: batch_y}\n",
    "                )\n",
    "\n",
    "            #store all the summaries\n",
    "            summary_writer.add_summary(summary, i)\n",
    "\n",
    "\n",
    "            print('Iteration: {}, Loss: {}, Accuracy: {}'.format(i,batch_loss,batch_accuracy))\n"
   ]
  },
  {
   "cell_type": "code",
   "execution_count": null,
   "metadata": {},
   "outputs": [],
   "source": []
  },
  {
   "cell_type": "code",
   "execution_count": null,
   "metadata": {},
   "outputs": [],
   "source": []
  }
 ],
 "metadata": {
  "kernelspec": {
   "display_name": "Python 3",
   "language": "python",
   "name": "python3"
  },
  "language_info": {
   "codemirror_mode": {
    "name": "ipython",
    "version": 3
   },
   "file_extension": ".py",
   "mimetype": "text/x-python",
   "name": "python",
   "nbconvert_exporter": "python",
   "pygments_lexer": "ipython3",
   "version": "3.6.3"
  }
 },
 "nbformat": 4,
 "nbformat_minor": 2
}
