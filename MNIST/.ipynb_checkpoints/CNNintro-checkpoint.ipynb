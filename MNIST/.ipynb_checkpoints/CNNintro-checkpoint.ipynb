{
 "cells": [
  {
   "cell_type": "code",
   "execution_count": 1,
   "metadata": {},
   "outputs": [],
   "source": [
    "import warnings\n",
    "warnings.filterwarnings('ignore')  \n",
    "\n",
    "import numpy as np\n",
    "import tensorflow as tf\n",
    "from tensorflow.examples.tutorials.mnist import input_data\n",
    "tf.logging.set_verbosity(tf.logging.ERROR)\n",
    "\n",
    "import matplotlib.pyplot as plt\n",
    "%matplotlib inline"
   ]
  },
  {
   "cell_type": "code",
   "execution_count": 2,
   "metadata": {},
   "outputs": [
    {
     "name": "stdout",
     "output_type": "stream",
     "text": [
      "Extracting data/mnist/train-images-idx3-ubyte.gz\n",
      "Extracting data/mnist/train-labels-idx1-ubyte.gz\n",
      "Extracting data/mnist/t10k-images-idx3-ubyte.gz\n",
      "Extracting data/mnist/t10k-labels-idx1-ubyte.gz\n"
     ]
    }
   ],
   "source": [
    "mnist = input_data.read_data_sets('data/mnist', one_hot=True)"
   ]
  },
  {
   "cell_type": "code",
   "execution_count": 3,
   "metadata": {},
   "outputs": [],
   "source": [
    "def initialize_weights(shape):\n",
    "    return tf.Variable(tf.truncated_normal(shape, stddev=0.1))"
   ]
  },
  {
   "cell_type": "code",
   "execution_count": 4,
   "metadata": {},
   "outputs": [],
   "source": [
    "def initialize_bias(shape):\n",
    "    return tf.Variable(tf.constant(0.1, shape=shape))"
   ]
  },
  {
   "cell_type": "code",
   "execution_count": 5,
   "metadata": {},
   "outputs": [],
   "source": [
    "#We set strides = [1,1,1,1]. The first and last values of strides are set to 1 which implies we don't want to move between \n",
    "#training samples and different channels. The second and third values of strides are also set to 1 \n",
    "#which implies we move the filter by 1 pixel in both height and width direction.\n",
    "\n",
    "def convolution(x, W):\n",
    "    return tf.nn.conv2d(x, W, strides=[1,1,1,1], padding='SAME')"
   ]
  },
  {
   "cell_type": "code",
   "execution_count": 8,
   "metadata": {},
   "outputs": [],
   "source": [
    "#We define a function called max_pooling using tf.nn.max_pool() to perform the pooling operation. \n",
    "#We perform max pooling with strides of 2 and same padding, ksize implies our pooling window shape.\n",
    "\n",
    "def max_pooling(x):\n",
    "    return tf.nn.max_pool(x, ksize=[1,2,2,1], strides=[1,2,2,1], padding='SAME')"
   ]
  },
  {
   "cell_type": "code",
   "execution_count": 9,
   "metadata": {},
   "outputs": [],
   "source": [
    "X_ = tf.placeholder(tf.float32, [None, 784])\n"
   ]
  },
  {
   "cell_type": "code",
   "execution_count": 10,
   "metadata": {},
   "outputs": [],
   "source": [
    "X = tf.reshape(X_, [-1, 28, 28, 1])"
   ]
  },
  {
   "cell_type": "code",
   "execution_count": 11,
   "metadata": {},
   "outputs": [
    {
     "data": {
      "text/plain": [
       "TensorShape([Dimension(None), Dimension(28), Dimension(28), Dimension(1)])"
      ]
     },
     "execution_count": 11,
     "metadata": {},
     "output_type": "execute_result"
    }
   ],
   "source": [
    "X.shape"
   ]
  },
  {
   "cell_type": "code",
   "execution_count": 13,
   "metadata": {},
   "outputs": [],
   "source": [
    "y = tf.placeholder(tf.float32, [None, 10])"
   ]
  },
  {
   "cell_type": "code",
   "execution_count": 15,
   "metadata": {},
   "outputs": [],
   "source": [
    "#We use a 5 x 5 filter. \n",
    "#Since we use grayscale images, number of input channels will be 1 and we set the filter size as 32.\n",
    "\n",
    "W1 = initialize_weights([5,5,1,32])"
   ]
  },
  {
   "cell_type": "code",
   "execution_count": 16,
   "metadata": {},
   "outputs": [],
   "source": [
    "b1 = initialize_bias([32])"
   ]
  },
  {
   "cell_type": "code",
   "execution_count": 17,
   "metadata": {},
   "outputs": [],
   "source": [
    "conv1 = tf.nn.relu(convolution(X, W1) + b1)\n",
    "pool1 = max_pooling(conv1)"
   ]
  },
  {
   "cell_type": "code",
   "execution_count": 18,
   "metadata": {},
   "outputs": [],
   "source": [
    "#As the second convolutional layer takes the input from the first convolutional layer which has 32 channel output, \n",
    "#the number of input channel to the second convolutional layer becomes 32 and we use 5 x 5 filter with a filter size of 64. \n",
    "#Thus, the weight matrix for the second convolutional layer becomes [5,5,32,64]\n",
    "\n",
    "W2 = initialize_weights([5,5,32,64])\n",
    "b2 = initialize_bias([64])"
   ]
  },
  {
   "cell_type": "code",
   "execution_count": 19,
   "metadata": {},
   "outputs": [],
   "source": [
    "conv2 = tf.nn.relu(convolution(pool1, W2) + b2)\n",
    "pool2 = max_pooling(conv2)"
   ]
  },
  {
   "cell_type": "code",
   "execution_count": 20,
   "metadata": {},
   "outputs": [],
   "source": [
    "flattened = tf.reshape(pool2, [-1, 7*7*64])"
   ]
  },
  {
   "cell_type": "code",
   "execution_count": 21,
   "metadata": {},
   "outputs": [],
   "source": [
    "#Since the shape of the input image becomes 7x7x64 after flattening and we use 1024 neurons in the hidden layer. \n",
    "#The shape of the weights become [7x7x64, 1024].\n",
    "\n",
    "W_fc = initialize_weights([7*7*64, 1024])\n",
    "b_fc = initialize_bias([1024])"
   ]
  },
  {
   "cell_type": "code",
   "execution_count": 22,
   "metadata": {},
   "outputs": [],
   "source": [
    "fc_output = tf.nn.relu(tf.matmul(flattened, W_fc) + b_fc)"
   ]
  },
  {
   "cell_type": "code",
   "execution_count": 23,
   "metadata": {},
   "outputs": [],
   "source": [
    "W_out = initialize_weights([1024, 10])\n",
    "b_out = initialize_bias([10])"
   ]
  },
  {
   "cell_type": "code",
   "execution_count": 24,
   "metadata": {},
   "outputs": [],
   "source": [
    "y_hat = tf.nn.softmax(tf.matmul(fc_output, W_out) + b_out)"
   ]
  },
  {
   "cell_type": "code",
   "execution_count": 25,
   "metadata": {},
   "outputs": [],
   "source": [
    "cross_entropy = -tf.reduce_sum(y*tf.log(y_hat))"
   ]
  },
  {
   "cell_type": "code",
   "execution_count": 26,
   "metadata": {},
   "outputs": [],
   "source": [
    "optimizer = tf.train.AdamOptimizer(1e-4).minimize(cross_entropy)"
   ]
  },
  {
   "cell_type": "code",
   "execution_count": 27,
   "metadata": {},
   "outputs": [],
   "source": [
    "predicted_digit = tf.argmax(y_hat, 1)\n",
    "actual_digit = tf.argmax(y, 1)\n",
    "\n",
    "correct_pred = tf.equal(predicted_digit,actual_digit)\n",
    "accuracy = tf.reduce_mean(tf.cast(correct_pred, tf.float32))"
   ]
  },
  {
   "cell_type": "code",
   "execution_count": 28,
   "metadata": {},
   "outputs": [],
   "source": [
    "sess = tf.Session()\n",
    "sess.run(tf.global_variables_initializer())"
   ]
  },
  {
   "cell_type": "code",
   "execution_count": 29,
   "metadata": {},
   "outputs": [
    {
     "name": "stdout",
     "output_type": "stream",
     "text": [
      "Epoch: 0, Loss:631.4443359375 Accuracy: 0.10999999940395355\n",
      "Epoch: 100, Loss:55.37607192993164 Accuracy: 0.8399999737739563\n",
      "Epoch: 200, Loss:26.207691192626953 Accuracy: 0.9100000262260437\n",
      "Epoch: 300, Loss:23.081037521362305 Accuracy: 0.9300000071525574\n",
      "Epoch: 400, Loss:16.94805335998535 Accuracy: 0.9599999785423279\n",
      "Epoch: 500, Loss:10.346565246582031 Accuracy: 0.9700000286102295\n",
      "Epoch: 600, Loss:8.281879425048828 Accuracy: 0.9700000286102295\n",
      "Epoch: 700, Loss:12.211593627929688 Accuracy: 0.949999988079071\n",
      "Epoch: 800, Loss:11.015012741088867 Accuracy: 0.9599999785423279\n",
      "Epoch: 900, Loss:4.453245639801025 Accuracy: 0.9900000095367432\n"
     ]
    }
   ],
   "source": [
    "for epoch in range(1000):\n",
    "    \n",
    "    #select some batch of data points according to the batch size (100)\n",
    "    X_batch, y_batch = mnist.train.next_batch(batch_size=100)\n",
    "    \n",
    "    #train the network\n",
    "    loss, acc,  _ = sess.run([cross_entropy, accuracy, optimizer], feed_dict={X_: X_batch, y: y_batch})\n",
    "    \n",
    "    #print the loss on every 100th epoch\n",
    "    if epoch%100 == 0:\n",
    "        print('Epoch: {}, Loss:{} Accuracy: {}'.format(epoch,loss,acc))\n"
   ]
  },
  {
   "cell_type": "code",
   "execution_count": 30,
   "metadata": {},
   "outputs": [
    {
     "data": {
      "text/plain": [
       "<matplotlib.image.AxesImage at 0x7f3f51c80668>"
      ]
     },
     "execution_count": 30,
     "metadata": {},
     "output_type": "execute_result"
    },
    {
     "data": {
      "image/png": "[encoded data removed]",
      "text/plain": [
       "<Figure size 432x288 with 1 Axes>"
      ]
     },
     "metadata": {
      "needs_background": "light"
     },
     "output_type": "display_data"
    }
   ],
   "source": [
    "plt.imshow(mnist.train.images[5].reshape([28, 28]))"
   ]
  },
  {
   "cell_type": "code",
   "execution_count": 33,
   "metadata": {},
   "outputs": [],
   "source": [
    "image = mnist.train.images[5].reshape([-1, 784])\n",
    "feature_map = sess.run([conv1], feed_dict={X_: image})[0]"
   ]
  },
  {
   "cell_type": "code",
   "execution_count": 34,
   "metadata": {},
   "outputs": [
    {
     "data": {
      "image/png": "[encoded data removed]",
      "text/plain": [
       "<Figure size 432x288 with 32 Axes>"
      ]
     },
     "metadata": {
      "needs_background": "light"
     },
     "output_type": "display_data"
    }
   ],
   "source": [
    "\n",
    "for i in range(32):\n",
    "    feature = feature_map[:,:,:,i].reshape([28, 28])\n",
    "    plt.subplot(4,8, i + 1)\n",
    "    plt.imshow(feature)\n",
    "    plt.axis('off')\n",
    "plt.show()"
   ]
  },
  {
   "cell_type": "code",
   "execution_count": null,
   "metadata": {},
   "outputs": [],
   "source": []
  }
 ],
 "metadata": {
  "kernelspec": {
   "display_name": "Python 3",
   "language": "python",
   "name": "python3"
  },
  "language_info": {
   "codemirror_mode": {
    "name": "ipython",
    "version": 3
   },
   "file_extension": ".py",
   "mimetype": "text/x-python",
   "name": "python",
   "nbconvert_exporter": "python",
   "pygments_lexer": "ipython3",
   "version": "3.6.3"
  }
 },
 "nbformat": 4,
 "nbformat_minor": 2
}
