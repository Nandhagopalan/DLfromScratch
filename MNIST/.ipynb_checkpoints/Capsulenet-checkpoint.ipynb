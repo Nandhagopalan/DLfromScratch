{
 "cells": [
  {
   "cell_type": "code",
   "execution_count": 1,
   "metadata": {},
   "outputs": [],
   "source": [
    "import warnings\n",
    "warnings.filterwarnings('ignore')\n",
    "\n",
    "import numpy as np\n",
    "import tensorflow as tf\n",
    "\n",
    "from tensorflow.examples.tutorials.mnist import input_data\n",
    "tf.logging.set_verbosity(tf.logging.ERROR)"
   ]
  },
  {
   "cell_type": "code",
   "execution_count": 2,
   "metadata": {},
   "outputs": [
    {
     "name": "stdout",
     "output_type": "stream",
     "text": [
      "Extracting data/mnist/train-images-idx3-ubyte.gz\n",
      "Extracting data/mnist/train-labels-idx1-ubyte.gz\n",
      "Extracting data/mnist/t10k-images-idx3-ubyte.gz\n",
      "Extracting data/mnist/t10k-labels-idx1-ubyte.gz\n"
     ]
    }
   ],
   "source": [
    "mnist = input_data.read_data_sets(\"data/mnist\",one_hot=True)"
   ]
  },
  {
   "cell_type": "code",
   "execution_count": 3,
   "metadata": {},
   "outputs": [],
   "source": [
    "batch_size = 50\n",
    "epsilon = 1e-9"
   ]
  },
  {
   "cell_type": "code",
   "execution_count": 22,
   "metadata": {},
   "outputs": [],
   "source": [
    "def squash(sj):\n",
    "    \n",
    "    sj_norm = tf.reduce_sum(tf.square(sj), -2, keep_dims=True)\n",
    "    scalar_factor = sj_norm / (1 + sj_norm) / tf.sqrt(sj_norm + epsilon)\n",
    "\n",
    "    vj = scalar_factor * sj  \n",
    "\n",
    "    return vj"
   ]
  },
  {
   "cell_type": "code",
   "execution_count": 23,
   "metadata": {},
   "outputs": [
    {
     "data": {
      "text/plain": [
       "(55000, 784)"
      ]
     },
     "execution_count": 23,
     "metadata": {},
     "output_type": "execute_result"
    }
   ],
   "source": [
    "mnist.train.images.shape"
   ]
  },
  {
   "cell_type": "code",
   "execution_count": 36,
   "metadata": {},
   "outputs": [],
   "source": [
    "def dynamic_routing(ui, bij, num_routing=10):\n",
    "    \n",
    "    #initialize weights wij by drawing from a random normal distribution\n",
    "    wij = tf.get_variable('Weight', shape=(1, 1152, 160, 8, 1), dtype=tf.float32, \n",
    "                                  initializer=tf.random_normal_initializer(0.01))\n",
    "\n",
    "    #initialize biases with a constant value\n",
    "    biases = tf.get_variable('bias', shape=(1, 1, 10, 16, 1))\n",
    "    \n",
    "    #define the primary capsules: (tf.tile replicates the tensor n times)--50*1152*160*8*1\n",
    "    ui = tf.tile(ui, [1, 1, 160, 1, 1])\n",
    "    \n",
    "    #compute the prediction vector --> --50*1152*160*1*1\n",
    "    u_hat = tf.reduce_sum(wij * ui, axis=3, keep_dims=True)\n",
    "    \n",
    "    \n",
    "    #reshape the prediction vector --50*1152*10*16*1\n",
    "    u_hat = tf.reshape(u_hat, shape=[-1, 1152, 10, 16, 1])\n",
    "\n",
    "    #stop gradient computation in the prediction vector\n",
    "    u_hat_stopped = tf.stop_gradient(u_hat, name='stop_gradient')\n",
    "\n",
    "    #perform dynamic routing for number of routing iterations\n",
    "    #vj shape --50*1*10*16*1\n",
    "    \n",
    "    for r in range(num_routing):\n",
    "    \n",
    "        #refer dynamic routing algorithm in the book for the detailed explanation on the following steps\n",
    "        with tf.variable_scope('iter_' + str(r)):\n",
    "               \n",
    "            #step 1\n",
    "            cij = tf.nn.softmax(bij, dim=2)\n",
    "            \n",
    "            \n",
    "            #step 2\n",
    "            if r == num_routing - 1:\n",
    "\n",
    "                sj = tf.multiply(cij, u_hat)\n",
    "\n",
    "                sj = tf.reduce_sum(sj, axis=1, keep_dims=True) + biases\n",
    "\n",
    "                vj = squash(sj)\n",
    "\n",
    "            elif r < num_routing - 1: \n",
    "\n",
    "                sj = tf.multiply(cij, u_hat_stopped)\n",
    "\n",
    "                sj = tf.reduce_sum(sj, axis=1, keep_dims=True) + biases\n",
    "\n",
    "                vj = squash(sj)\n",
    "\n",
    "                vj_tiled = tf.tile(vj, [1, 1152, 1, 1, 1])\n",
    "\n",
    "                coupling_coeff = tf.reduce_sum(u_hat_stopped * vj_tiled, axis=3, keep_dims=True)\n",
    "\n",
    "                #step 3\n",
    "                bij += coupling_coeff\n",
    "\n",
    "    \n",
    "    return vj"
   ]
  },
  {
   "cell_type": "code",
   "execution_count": 39,
   "metadata": {},
   "outputs": [
    {
     "name": "stdout",
     "output_type": "stream",
     "text": [
      "digggg (50, 10, 16)\n"
     ]
    }
   ],
   "source": [
    "graph = tf.Graph()\n",
    "\n",
    "with graph.as_default() as g:\n",
    "     \n",
    "    #placeholders for the input and output\n",
    "    x = tf.placeholder(tf.float32, [batch_size, 784])\n",
    "    y = tf.placeholder(tf.float32, [batch_size,10])\n",
    "    \n",
    "    #reshape the input x\n",
    "    x_image = tf.reshape(x, [-1,28,28,1])\n",
    "\n",
    "    #perform the convolutional operation and get the convolutional input, -->output will be 50*20*20*256\n",
    "    with tf.name_scope('convolutional_input'):\n",
    "        input_data = tf.contrib.layers.conv2d(inputs=x_image, num_outputs=256, \n",
    "                                              kernel_size=9, padding='valid')\n",
    "        \n",
    "\n",
    "    #compute the primary capsules which extract the basic features such as edges.    \n",
    "    #first, compute the capsules using convolution operation: --> 8 times 50*36*32*1 --> 50*1152*1*1\n",
    "    capsules = []\n",
    "\n",
    "    for i in range(8):\n",
    "\n",
    "        with tf.name_scope('capsules_' + str(i)):\n",
    "           \n",
    "            #convolution operation\n",
    "            output = tf.contrib.layers.conv2d(inputs=input_data, num_outputs=32,kernel_size=9,\n",
    "                                              stride=2, padding='valid')\n",
    "            \n",
    "            #reshape the output\n",
    "            output = tf.reshape(output, [batch_size, -1, 1, 1])\n",
    "            \n",
    "            \n",
    "            #store the output which is capsule in the capsules list\n",
    "            capsules.append(output)\n",
    "    \n",
    "    #concatenate all the capsules and form the primary capsule --> (50, 1152, 8, 1)\n",
    "    primary_capsule = tf.concat(capsules, axis=2)\n",
    "    \n",
    "      \n",
    "    #squash the primary capsule and get the probability i.e apply squash function and get the probability\n",
    "    primary_capsule = squash(primary_capsule)\n",
    "    \n",
    "    \n",
    "    #compute digit capsules using dynamic routing\n",
    "    with tf.name_scope('dynamic_routing'):\n",
    "        \n",
    "        #reshape the primary capsule -->(50, 1152,1, 8, 1)\n",
    "        outputs = tf.reshape(primary_capsule, shape=(batch_size, -1, 1, primary_capsule.shape[-2].value, 1))\n",
    "    \n",
    "        \n",
    "        #initialize bij with 0s -->(1, 1152,10, 1, 1)\n",
    "        bij = tf.constant(np.zeros([1, primary_capsule.shape[1].value, 10, 1, 1], dtype=np.float32))\n",
    "        \n",
    "        #compute the digit capsules using dynamic routing algorithm which takes \n",
    "        #the reshaped primary capsules and bij as inputs and returns the activity vector \n",
    "        digit_capsules = dynamic_routing(outputs, bij)\n",
    "   \n",
    "    digit_capsules = tf.squeeze(digit_capsules, axis=1)\n",
    "    #size will be 50*10*16*1\n"
   ]
  },
  {
   "cell_type": "code",
   "execution_count": 40,
   "metadata": {},
   "outputs": [],
   "source": [
    "#Masking\n",
    "\n",
    "with graph.as_default() as g:\n",
    "    with tf.variable_scope('Masking'):\n",
    "        \n",
    "        # select the activity vector of given input image using the actual label y and mask out others\n",
    "        #(50*10*16) * (50,10,1)\n",
    "        \n",
    "        masked_v = tf.multiply(tf.squeeze(digit_capsules), tf.reshape(y, (-1, 10, 1)))\n"
   ]
  },
  {
   "cell_type": "code",
   "execution_count": 45,
   "metadata": {},
   "outputs": [
    {
     "name": "stdout",
     "output_type": "stream",
     "text": [
      "(50, 784)\n"
     ]
    }
   ],
   "source": [
    "with graph.as_default() as g:\n",
    "    \n",
    "    with tf.name_scope('Decoder'):\n",
    "        \n",
    "        #masked digit capsule --50*160\n",
    "        v_j = tf.reshape(masked_v, shape=(batch_size, -1))\n",
    "        \n",
    "\n",
    "        #first fully connected layer \n",
    "        fc1 = tf.contrib.layers.fully_connected(v_j, num_outputs=512)\n",
    "           \n",
    "        #second fully connected layer\n",
    "        fc2 = tf.contrib.layers.fully_connected(fc1, num_outputs=1024)\n",
    "\n",
    "        #reconstructed image\n",
    "        reconstructed_image = tf.contrib.layers.fully_connected(fc2, num_outputs=784, activation_fn=tf.sigmoid)\n",
    "        "
   ]
  },
  {
   "cell_type": "code",
   "execution_count": 44,
   "metadata": {},
   "outputs": [
    {
     "name": "stdout",
     "output_type": "stream",
     "text": [
      "eee (50, 10, 1, 1)\n"
     ]
    }
   ],
   "source": [
    "with graph.as_default() as g:\n",
    "    with tf.variable_scope('accuracy'):\n",
    "        \n",
    "        #compute the length of each activity vector in the digit capsule -- 50*10*1*1\n",
    "        v_length = tf.sqrt(tf.reduce_sum(tf.square(digit_capsules), axis=2, keep_dims=True) + epsilon)\n",
    "       \n",
    "        #apply softmax to the length and get the probabilities\n",
    "        softmax_v = tf.nn.softmax(v_length, dim=1)\n",
    "       \n",
    "        \n",
    "        #select the index which got the highest probability this will give us the predicted digit \n",
    "        argmax_idx = tf.to_int32(tf.argmax(softmax_v, axis=1))    \n",
    "        predicted_digit = tf.reshape(argmax_idx, shape=(batch_size, ))\n",
    "        \n",
    "        #compute the accuracy\n",
    "        actual_digit = tf.to_int32(tf.argmax(y, axis=1))\n",
    "        \n",
    "        correct_pred = tf.equal(predicted_digit,actual_digit)\n",
    "        accuracy = tf.reduce_mean(tf.cast(correct_pred, tf.float32))"
   ]
  },
  {
   "cell_type": "code",
   "execution_count": 46,
   "metadata": {},
   "outputs": [],
   "source": [
    "lambda_ = 0.5\n",
    "alpha = 0.0005\n",
    "\n",
    "with graph.as_default() as g:\n",
    "\n",
    "    #margin loss\n",
    "    max_left = tf.square(tf.maximum(0.,0.9 - v_length))\n",
    "    max_right = tf.square(tf.maximum(0., v_length - 0.1))\n",
    "\n",
    "    T_k = y\n",
    "    \n",
    "    #compute margin loss L_k for class k as given in (2)\n",
    "    L_k = T_k * max_left + lambda_ * (1 - T_k) * max_right\n",
    "    \n",
    "    #compute total margin as given in refer equation (3)\n",
    "    margin_loss = tf.reduce_mean(tf.reduce_sum(L_k, axis=1))\n",
    "    \n",
    "    #reshape and get the original image\n",
    "    original_image = tf.reshape(x, shape=(batch_size, -1))\n",
    "    \n",
    "    #compute reconstruction loss as shown in (4)\n",
    "    squared = tf.square(reconstructed_image - original_image)\n",
    "    reconstruction_loss = tf.reduce_mean(squared)\n",
    "\n",
    "    #compute total loss which is the weighted sum of margin and reconstructed loss as shown in (5)\n",
    "    total_loss = margin_loss + alpha * reconstruction_loss\n",
    "\n"
   ]
  },
  {
   "cell_type": "code",
   "execution_count": 47,
   "metadata": {},
   "outputs": [],
   "source": [
    "with graph.as_default() as g:\n",
    "    optimizer = tf.train.AdamOptimizer(0.0001).minimize(total_loss)\n"
   ]
  },
  {
   "cell_type": "code",
   "execution_count": 48,
   "metadata": {},
   "outputs": [],
   "source": [
    "num_epochs = 100\n",
    "num_steps = int(len(mnist.train.images)/batch_size)"
   ]
  },
  {
   "cell_type": "code",
   "execution_count": 50,
   "metadata": {},
   "outputs": [
    {
     "name": "stdout",
     "output_type": "stream",
     "text": [
      "Epoch: 0, iteration:0, Loss:0.5477936863899231 Accuracy: 0.11999999731779099\n",
      "Epoch: 0, iteration:10, Loss:0.5525575280189514 Accuracy: 0.18000000715255737\n",
      "Epoch: 0, iteration:20, Loss:0.5336701273918152 Accuracy: 0.10000000149011612\n",
      "Epoch: 0, iteration:30, Loss:0.5272727608680725 Accuracy: 0.1599999964237213\n",
      "Epoch: 0, iteration:40, Loss:0.5267630219459534 Accuracy: 0.05999999865889549\n",
      "Epoch: 0, iteration:50, Loss:0.5251140594482422 Accuracy: 0.03999999910593033\n",
      "Epoch: 0, iteration:60, Loss:0.5254801511764526 Accuracy: 0.05999999865889549\n"
     ]
    },
    {
     "ename": "KeyboardInterrupt",
     "evalue": "",
     "output_type": "error",
     "traceback": [
      "\u001b[0;31m---------------------------------------------------------------------------\u001b[0m",
      "\u001b[0;31mKeyboardInterrupt\u001b[0m                         Traceback (most recent call last)",
      "\u001b[0;32m<ipython-input-50-45399ae354bb>\u001b[0m in \u001b[0;36m<module>\u001b[0;34m\u001b[0m\n\u001b[1;32m     10\u001b[0m             \u001b[0mfeed_dict\u001b[0m \u001b[0;34m=\u001b[0m \u001b[0;34m{\u001b[0m\u001b[0mx\u001b[0m \u001b[0;34m:\u001b[0m \u001b[0mbatch_data\u001b[0m\u001b[0;34m,\u001b[0m \u001b[0my\u001b[0m \u001b[0;34m:\u001b[0m \u001b[0mbatch_labels\u001b[0m\u001b[0;34m}\u001b[0m\u001b[0;34m\u001b[0m\u001b[0m\n\u001b[1;32m     11\u001b[0m \u001b[0;34m\u001b[0m\u001b[0m\n\u001b[0;32m---> 12\u001b[0;31m             \u001b[0m_\u001b[0m\u001b[0;34m,\u001b[0m \u001b[0mloss\u001b[0m\u001b[0;34m,\u001b[0m \u001b[0macc\u001b[0m \u001b[0;34m=\u001b[0m \u001b[0msess\u001b[0m\u001b[0;34m.\u001b[0m\u001b[0mrun\u001b[0m\u001b[0;34m(\u001b[0m\u001b[0;34m[\u001b[0m\u001b[0moptimizer\u001b[0m\u001b[0;34m,\u001b[0m \u001b[0mtotal_loss\u001b[0m\u001b[0;34m,\u001b[0m \u001b[0maccuracy\u001b[0m\u001b[0;34m]\u001b[0m\u001b[0;34m,\u001b[0m \u001b[0mfeed_dict\u001b[0m\u001b[0;34m=\u001b[0m\u001b[0mfeed_dict\u001b[0m\u001b[0;34m)\u001b[0m\u001b[0;34m\u001b[0m\u001b[0m\n\u001b[0m\u001b[1;32m     13\u001b[0m \u001b[0;34m\u001b[0m\u001b[0m\n\u001b[1;32m     14\u001b[0m             \u001b[0;32mif\u001b[0m \u001b[0miteration\u001b[0m\u001b[0;34m%\u001b[0m\u001b[0;36m10\u001b[0m \u001b[0;34m==\u001b[0m \u001b[0;36m0\u001b[0m\u001b[0;34m:\u001b[0m\u001b[0;34m\u001b[0m\u001b[0m\n",
      "\u001b[0;32m~/pyenv/myenv/lib/python3.6/site-packages/tensorflow/python/client/session.py\u001b[0m in \u001b[0;36mrun\u001b[0;34m(self, fetches, feed_dict, options, run_metadata)\u001b[0m\n\u001b[1;32m    948\u001b[0m     \u001b[0;32mtry\u001b[0m\u001b[0;34m:\u001b[0m\u001b[0;34m\u001b[0m\u001b[0m\n\u001b[1;32m    949\u001b[0m       result = self._run(None, fetches, feed_dict, options_ptr,\n\u001b[0;32m--> 950\u001b[0;31m                          run_metadata_ptr)\n\u001b[0m\u001b[1;32m    951\u001b[0m       \u001b[0;32mif\u001b[0m \u001b[0mrun_metadata\u001b[0m\u001b[0;34m:\u001b[0m\u001b[0;34m\u001b[0m\u001b[0m\n\u001b[1;32m    952\u001b[0m         \u001b[0mproto_data\u001b[0m \u001b[0;34m=\u001b[0m \u001b[0mtf_session\u001b[0m\u001b[0;34m.\u001b[0m\u001b[0mTF_GetBuffer\u001b[0m\u001b[0;34m(\u001b[0m\u001b[0mrun_metadata_ptr\u001b[0m\u001b[0;34m)\u001b[0m\u001b[0;34m\u001b[0m\u001b[0m\n",
      "\u001b[0;32m~/pyenv/myenv/lib/python3.6/site-packages/tensorflow/python/client/session.py\u001b[0m in \u001b[0;36m_run\u001b[0;34m(self, handle, fetches, feed_dict, options, run_metadata)\u001b[0m\n\u001b[1;32m   1171\u001b[0m     \u001b[0;32mif\u001b[0m \u001b[0mfinal_fetches\u001b[0m \u001b[0;32mor\u001b[0m \u001b[0mfinal_targets\u001b[0m \u001b[0;32mor\u001b[0m \u001b[0;34m(\u001b[0m\u001b[0mhandle\u001b[0m \u001b[0;32mand\u001b[0m \u001b[0mfeed_dict_tensor\u001b[0m\u001b[0;34m)\u001b[0m\u001b[0;34m:\u001b[0m\u001b[0;34m\u001b[0m\u001b[0m\n\u001b[1;32m   1172\u001b[0m       results = self._do_run(handle, final_targets, final_fetches,\n\u001b[0;32m-> 1173\u001b[0;31m                              feed_dict_tensor, options, run_metadata)\n\u001b[0m\u001b[1;32m   1174\u001b[0m     \u001b[0;32melse\u001b[0m\u001b[0;34m:\u001b[0m\u001b[0;34m\u001b[0m\u001b[0m\n\u001b[1;32m   1175\u001b[0m       \u001b[0mresults\u001b[0m \u001b[0;34m=\u001b[0m \u001b[0;34m[\u001b[0m\u001b[0;34m]\u001b[0m\u001b[0;34m\u001b[0m\u001b[0m\n",
      "\u001b[0;32m~/pyenv/myenv/lib/python3.6/site-packages/tensorflow/python/client/session.py\u001b[0m in \u001b[0;36m_do_run\u001b[0;34m(self, handle, target_list, fetch_list, feed_dict, options, run_metadata)\u001b[0m\n\u001b[1;32m   1348\u001b[0m     \u001b[0;32mif\u001b[0m \u001b[0mhandle\u001b[0m \u001b[0;32mis\u001b[0m \u001b[0;32mNone\u001b[0m\u001b[0;34m:\u001b[0m\u001b[0;34m\u001b[0m\u001b[0m\n\u001b[1;32m   1349\u001b[0m       return self._do_call(_run_fn, feeds, fetches, targets, options,\n\u001b[0;32m-> 1350\u001b[0;31m                            run_metadata)\n\u001b[0m\u001b[1;32m   1351\u001b[0m     \u001b[0;32melse\u001b[0m\u001b[0;34m:\u001b[0m\u001b[0;34m\u001b[0m\u001b[0m\n\u001b[1;32m   1352\u001b[0m       \u001b[0;32mreturn\u001b[0m \u001b[0mself\u001b[0m\u001b[0;34m.\u001b[0m\u001b[0m_do_call\u001b[0m\u001b[0;34m(\u001b[0m\u001b[0m_prun_fn\u001b[0m\u001b[0;34m,\u001b[0m \u001b[0mhandle\u001b[0m\u001b[0;34m,\u001b[0m \u001b[0mfeeds\u001b[0m\u001b[0;34m,\u001b[0m \u001b[0mfetches\u001b[0m\u001b[0;34m)\u001b[0m\u001b[0;34m\u001b[0m\u001b[0m\n",
      "\u001b[0;32m~/pyenv/myenv/lib/python3.6/site-packages/tensorflow/python/client/session.py\u001b[0m in \u001b[0;36m_do_call\u001b[0;34m(self, fn, *args)\u001b[0m\n\u001b[1;32m   1354\u001b[0m   \u001b[0;32mdef\u001b[0m \u001b[0m_do_call\u001b[0m\u001b[0;34m(\u001b[0m\u001b[0mself\u001b[0m\u001b[0;34m,\u001b[0m \u001b[0mfn\u001b[0m\u001b[0;34m,\u001b[0m \u001b[0;34m*\u001b[0m\u001b[0margs\u001b[0m\u001b[0;34m)\u001b[0m\u001b[0;34m:\u001b[0m\u001b[0;34m\u001b[0m\u001b[0m\n\u001b[1;32m   1355\u001b[0m     \u001b[0;32mtry\u001b[0m\u001b[0;34m:\u001b[0m\u001b[0;34m\u001b[0m\u001b[0m\n\u001b[0;32m-> 1356\u001b[0;31m       \u001b[0;32mreturn\u001b[0m \u001b[0mfn\u001b[0m\u001b[0;34m(\u001b[0m\u001b[0;34m*\u001b[0m\u001b[0margs\u001b[0m\u001b[0;34m)\u001b[0m\u001b[0;34m\u001b[0m\u001b[0m\n\u001b[0m\u001b[1;32m   1357\u001b[0m     \u001b[0;32mexcept\u001b[0m \u001b[0merrors\u001b[0m\u001b[0;34m.\u001b[0m\u001b[0mOpError\u001b[0m \u001b[0;32mas\u001b[0m \u001b[0me\u001b[0m\u001b[0;34m:\u001b[0m\u001b[0;34m\u001b[0m\u001b[0m\n\u001b[1;32m   1358\u001b[0m       \u001b[0mmessage\u001b[0m \u001b[0;34m=\u001b[0m \u001b[0mcompat\u001b[0m\u001b[0;34m.\u001b[0m\u001b[0mas_text\u001b[0m\u001b[0;34m(\u001b[0m\u001b[0me\u001b[0m\u001b[0;34m.\u001b[0m\u001b[0mmessage\u001b[0m\u001b[0;34m)\u001b[0m\u001b[0;34m\u001b[0m\u001b[0m\n",
      "\u001b[0;32m~/pyenv/myenv/lib/python3.6/site-packages/tensorflow/python/client/session.py\u001b[0m in \u001b[0;36m_run_fn\u001b[0;34m(feed_dict, fetch_list, target_list, options, run_metadata)\u001b[0m\n\u001b[1;32m   1339\u001b[0m       \u001b[0mself\u001b[0m\u001b[0;34m.\u001b[0m\u001b[0m_extend_graph\u001b[0m\u001b[0;34m(\u001b[0m\u001b[0;34m)\u001b[0m\u001b[0;34m\u001b[0m\u001b[0m\n\u001b[1;32m   1340\u001b[0m       return self._call_tf_sessionrun(\n\u001b[0;32m-> 1341\u001b[0;31m           options, feed_dict, fetch_list, target_list, run_metadata)\n\u001b[0m\u001b[1;32m   1342\u001b[0m \u001b[0;34m\u001b[0m\u001b[0m\n\u001b[1;32m   1343\u001b[0m     \u001b[0;32mdef\u001b[0m \u001b[0m_prun_fn\u001b[0m\u001b[0;34m(\u001b[0m\u001b[0mhandle\u001b[0m\u001b[0;34m,\u001b[0m \u001b[0mfeed_dict\u001b[0m\u001b[0;34m,\u001b[0m \u001b[0mfetch_list\u001b[0m\u001b[0;34m)\u001b[0m\u001b[0;34m:\u001b[0m\u001b[0;34m\u001b[0m\u001b[0m\n",
      "\u001b[0;32m~/pyenv/myenv/lib/python3.6/site-packages/tensorflow/python/client/session.py\u001b[0m in \u001b[0;36m_call_tf_sessionrun\u001b[0;34m(self, options, feed_dict, fetch_list, target_list, run_metadata)\u001b[0m\n\u001b[1;32m   1427\u001b[0m     return tf_session.TF_SessionRun_wrapper(\n\u001b[1;32m   1428\u001b[0m         \u001b[0mself\u001b[0m\u001b[0;34m.\u001b[0m\u001b[0m_session\u001b[0m\u001b[0;34m,\u001b[0m \u001b[0moptions\u001b[0m\u001b[0;34m,\u001b[0m \u001b[0mfeed_dict\u001b[0m\u001b[0;34m,\u001b[0m \u001b[0mfetch_list\u001b[0m\u001b[0;34m,\u001b[0m \u001b[0mtarget_list\u001b[0m\u001b[0;34m,\u001b[0m\u001b[0;34m\u001b[0m\u001b[0m\n\u001b[0;32m-> 1429\u001b[0;31m         run_metadata)\n\u001b[0m\u001b[1;32m   1430\u001b[0m \u001b[0;34m\u001b[0m\u001b[0m\n\u001b[1;32m   1431\u001b[0m   \u001b[0;32mdef\u001b[0m \u001b[0m_call_tf_sessionprun\u001b[0m\u001b[0;34m(\u001b[0m\u001b[0mself\u001b[0m\u001b[0;34m,\u001b[0m \u001b[0mhandle\u001b[0m\u001b[0;34m,\u001b[0m \u001b[0mfeed_dict\u001b[0m\u001b[0;34m,\u001b[0m \u001b[0mfetch_list\u001b[0m\u001b[0;34m)\u001b[0m\u001b[0;34m:\u001b[0m\u001b[0;34m\u001b[0m\u001b[0m\n",
      "\u001b[0;31mKeyboardInterrupt\u001b[0m: "
     ]
    }
   ],
   "source": [
    "with tf.Session(graph=graph) as sess:\n",
    "\n",
    "    init_op = tf.global_variables_initializer()\n",
    "    sess.run(init_op)\n",
    "\n",
    "\n",
    "    for epoch in range(num_epochs):\n",
    "        for iteration in range(num_steps):\n",
    "            batch_data, batch_labels = mnist.train.next_batch(batch_size)\n",
    "            feed_dict = {x : batch_data, y : batch_labels}\n",
    "     \n",
    "            _, loss, acc = sess.run([optimizer, total_loss, accuracy], feed_dict=feed_dict)\n",
    "\n",
    "            if iteration%10 == 0:\n",
    "                print('Epoch: {}, iteration:{}, Loss:{} Accuracy: {}'.format(epoch,iteration,loss,acc))"
   ]
  },
  {
   "cell_type": "code",
   "execution_count": null,
   "metadata": {},
   "outputs": [],
   "source": []
  }
 ],
 "metadata": {
  "kernelspec": {
   "display_name": "Python 3",
   "language": "python",
   "name": "python3"
  },
  "language_info": {
   "codemirror_mode": {
    "name": "ipython",
    "version": 3
   },
   "file_extension": ".py",
   "mimetype": "text/x-python",
   "name": "python",
   "nbconvert_exporter": "python",
   "pygments_lexer": "ipython3",
   "version": "3.6.3"
  }
 },
 "nbformat": 4,
 "nbformat_minor": 2
}
