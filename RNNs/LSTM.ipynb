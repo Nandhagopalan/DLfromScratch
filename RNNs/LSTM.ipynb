{
 "cells": [
  {
   "cell_type": "code",
   "execution_count": 5,
   "metadata": {},
   "outputs": [],
   "source": [
    "import warnings\n",
    "warnings.filterwarnings('ignore')\n",
    "\n",
    "import numpy as np\n",
    "import pandas as pd\n",
    "from sklearn.preprocessing import StandardScaler\n",
    "\n",
    "import matplotlib.pyplot as plt\n",
    "%matplotlib inline \n",
    "\n",
    "\n",
    "import tensorflow as tf\n",
    "tf.logging.set_verbosity(tf.logging.ERROR)"
   ]
  },
  {
   "cell_type": "code",
   "execution_count": 6,
   "metadata": {},
   "outputs": [],
   "source": [
    "df = pd.read_csv('Bitcoin.csv')"
   ]
  },
  {
   "cell_type": "code",
   "execution_count": 7,
   "metadata": {},
   "outputs": [
    {
     "data": {
      "text/html": [
       "<div>\n",
       "<style scoped>\n",
       "    .dataframe tbody tr th:only-of-type {\n",
       "        vertical-align: middle;\n",
       "    }\n",
       "\n",
       "    .dataframe tbody tr th {\n",
       "        vertical-align: top;\n",
       "    }\n",
       "\n",
       "    .dataframe thead th {\n",
       "        text-align: right;\n",
       "    }\n",
       "</style>\n",
       "<table border=\"1\" class=\"dataframe\">\n",
       "  <thead>\n",
       "    <tr style=\"text-align: right;\">\n",
       "      <th></th>\n",
       "      <th>Date</th>\n",
       "      <th>Symbol</th>\n",
       "      <th>Open</th>\n",
       "      <th>High</th>\n",
       "      <th>Low</th>\n",
       "      <th>Close</th>\n",
       "      <th>Volume From</th>\n",
       "      <th>Volume To</th>\n",
       "    </tr>\n",
       "  </thead>\n",
       "  <tbody>\n",
       "    <tr>\n",
       "      <th>0</th>\n",
       "      <td>5/26/2018</td>\n",
       "      <td>BTCUSD</td>\n",
       "      <td>7459.11</td>\n",
       "      <td>7640.46</td>\n",
       "      <td>7380.00</td>\n",
       "      <td>7520.00</td>\n",
       "      <td>2722.80</td>\n",
       "      <td>2.042265e+07</td>\n",
       "    </tr>\n",
       "    <tr>\n",
       "      <th>1</th>\n",
       "      <td>5/25/2018</td>\n",
       "      <td>BTCUSD</td>\n",
       "      <td>7584.15</td>\n",
       "      <td>7661.85</td>\n",
       "      <td>7326.94</td>\n",
       "      <td>7459.11</td>\n",
       "      <td>8491.93</td>\n",
       "      <td>6.342069e+07</td>\n",
       "    </tr>\n",
       "    <tr>\n",
       "      <th>2</th>\n",
       "      <td>5/24/2018</td>\n",
       "      <td>BTCUSD</td>\n",
       "      <td>7505.00</td>\n",
       "      <td>7734.99</td>\n",
       "      <td>7269.00</td>\n",
       "      <td>7584.15</td>\n",
       "      <td>11033.72</td>\n",
       "      <td>8.293137e+07</td>\n",
       "    </tr>\n",
       "    <tr>\n",
       "      <th>3</th>\n",
       "      <td>5/23/2018</td>\n",
       "      <td>BTCUSD</td>\n",
       "      <td>7987.70</td>\n",
       "      <td>8030.00</td>\n",
       "      <td>7433.19</td>\n",
       "      <td>7505.00</td>\n",
       "      <td>14905.99</td>\n",
       "      <td>1.148104e+08</td>\n",
       "    </tr>\n",
       "    <tr>\n",
       "      <th>4</th>\n",
       "      <td>5/22/2018</td>\n",
       "      <td>BTCUSD</td>\n",
       "      <td>8393.44</td>\n",
       "      <td>8400.00</td>\n",
       "      <td>7950.00</td>\n",
       "      <td>7987.70</td>\n",
       "      <td>6589.43</td>\n",
       "      <td>5.389753e+07</td>\n",
       "    </tr>\n",
       "  </tbody>\n",
       "</table>\n",
       "</div>"
      ],
      "text/plain": [
       "        Date  Symbol     Open     High      Low    Close  Volume From  \\\n",
       "0  5/26/2018  BTCUSD  7459.11  7640.46  7380.00  7520.00      2722.80   \n",
       "1  5/25/2018  BTCUSD  7584.15  7661.85  7326.94  7459.11      8491.93   \n",
       "2  5/24/2018  BTCUSD  7505.00  7734.99  7269.00  7584.15     11033.72   \n",
       "3  5/23/2018  BTCUSD  7987.70  8030.00  7433.19  7505.00     14905.99   \n",
       "4  5/22/2018  BTCUSD  8393.44  8400.00  7950.00  7987.70      6589.43   \n",
       "\n",
       "      Volume To  \n",
       "0  2.042265e+07  \n",
       "1  6.342069e+07  \n",
       "2  8.293137e+07  \n",
       "3  1.148104e+08  \n",
       "4  5.389753e+07  "
      ]
     },
     "execution_count": 7,
     "metadata": {},
     "output_type": "execute_result"
    }
   ],
   "source": [
    "df.head()"
   ]
  },
  {
   "cell_type": "code",
   "execution_count": 8,
   "metadata": {},
   "outputs": [],
   "source": [
    "data = df['Close'].values"
   ]
  },
  {
   "cell_type": "code",
   "execution_count": 9,
   "metadata": {},
   "outputs": [],
   "source": [
    "scaler = StandardScaler()\n",
    "data = scaler.fit_transform(data.reshape(-1, 1))"
   ]
  },
  {
   "cell_type": "code",
   "execution_count": 13,
   "metadata": {},
   "outputs": [
    {
     "data": {
      "text/plain": [
       "(1273, 1)"
      ]
     },
     "execution_count": 13,
     "metadata": {},
     "output_type": "execute_result"
    }
   ],
   "source": [
    "data.shape"
   ]
  },
  {
   "cell_type": "code",
   "execution_count": 14,
   "metadata": {},
   "outputs": [
    {
     "data": {
      "image/png": "[encoded data removed]",
      "text/plain": [
       "<Figure size 432x288 with 1 Axes>"
      ]
     },
     "metadata": {
      "needs_background": "light"
     },
     "output_type": "display_data"
    }
   ],
   "source": [
    "plt.plot(data)\n",
    "plt.xlabel('Days')\n",
    "plt.ylabel('Price')\n",
    "plt.grid()"
   ]
  },
  {
   "cell_type": "code",
   "execution_count": 16,
   "metadata": {},
   "outputs": [],
   "source": [
    "def get_data(data, window_size):\n",
    "    X = []\n",
    "    y = []\n",
    "    \n",
    "    i = 0\n",
    "    \n",
    "    while (i + window_size) <= len(data) - 1:\n",
    "        X.append(data[i:i+window_size])\n",
    "        y.append(data[i+window_size])\n",
    "        \n",
    "        i += 1\n",
    "    assert len(X) ==  len(y)\n",
    "    return X, y"
   ]
  },
  {
   "cell_type": "code",
   "execution_count": 17,
   "metadata": {},
   "outputs": [],
   "source": [
    "X, y = get_data(data, window_size = 7)\n"
   ]
  },
  {
   "cell_type": "code",
   "execution_count": 18,
   "metadata": {},
   "outputs": [],
   "source": [
    "#train set\n",
    "X_train  = np.array(X[:1000])\n",
    "y_train = np.array(y[:1000])\n",
    "\n",
    "#test set\n",
    "X_test = np.array(X[1000:])\n",
    "y_test = np.array(y[1000:])"
   ]
  },
  {
   "cell_type": "code",
   "execution_count": 37,
   "metadata": {},
   "outputs": [
    {
     "data": {
      "text/plain": [
       "array([[1.32443891],\n",
       "       [1.30836052],\n",
       "       [1.34137813],\n",
       "       [1.32047807],\n",
       "       [1.44793806],\n",
       "       [1.55507627],\n",
       "       [1.5876661 ]])"
      ]
     },
     "execution_count": 37,
     "metadata": {},
     "output_type": "execute_result"
    }
   ],
   "source": [
    "X_train[0]"
   ]
  },
  {
   "cell_type": "code",
   "execution_count": 39,
   "metadata": {},
   "outputs": [
    {
     "data": {
      "text/plain": [
       "array([1.51339762])"
      ]
     },
     "execution_count": 39,
     "metadata": {},
     "output_type": "execute_result"
    }
   ],
   "source": [
    "y_train[0]"
   ]
  },
  {
   "cell_type": "code",
   "execution_count": 40,
   "metadata": {},
   "outputs": [
    {
     "data": {
      "text/plain": [
       "(1000, 7, 1)"
      ]
     },
     "execution_count": 40,
     "metadata": {},
     "output_type": "execute_result"
    }
   ],
   "source": [
    "X_train.shape"
   ]
  },
  {
   "cell_type": "code",
   "execution_count": 41,
   "metadata": {},
   "outputs": [],
   "source": [
    "batch_size = 7\n",
    "window_size = 7 \n",
    "hidden_layer = 256 \n",
    "learning_rate = 0.001"
   ]
  },
  {
   "cell_type": "code",
   "execution_count": 42,
   "metadata": {},
   "outputs": [],
   "source": [
    "input = tf.placeholder(tf.float32, [batch_size, window_size, 1])\n",
    "target = tf.placeholder(tf.float32, [batch_size, 1])"
   ]
  },
  {
   "cell_type": "code",
   "execution_count": 43,
   "metadata": {},
   "outputs": [],
   "source": [
    "U_i = tf.Variable(tf.truncated_normal([1, hidden_layer], stddev=0.05))\n",
    "W_i = tf.Variable(tf.truncated_normal([hidden_layer, hidden_layer], stddev=0.05))\n",
    "b_i = tf.Variable(tf.zeros([hidden_layer]))"
   ]
  },
  {
   "cell_type": "code",
   "execution_count": 44,
   "metadata": {},
   "outputs": [],
   "source": [
    "U_f = tf.Variable(tf.truncated_normal([1, hidden_layer], stddev=0.05))\n",
    "W_f = tf.Variable(tf.truncated_normal([hidden_layer, hidden_layer], stddev=0.05))\n",
    "b_f = tf.Variable(tf.zeros([hidden_layer]))"
   ]
  },
  {
   "cell_type": "code",
   "execution_count": 45,
   "metadata": {},
   "outputs": [],
   "source": [
    "U_o = tf.Variable(tf.truncated_normal([1, hidden_layer], stddev=0.05))\n",
    "W_o = tf.Variable(tf.truncated_normal([hidden_layer, hidden_layer], stddev=0.05))\n",
    "b_o = tf.Variable(tf.zeros([hidden_layer]))\n"
   ]
  },
  {
   "cell_type": "code",
   "execution_count": 46,
   "metadata": {},
   "outputs": [],
   "source": [
    "U_g = tf.Variable(tf.truncated_normal([1, hidden_layer], stddev=0.05))\n",
    "W_g = tf.Variable(tf.truncated_normal([hidden_layer, hidden_layer], stddev=0.05))\n",
    "b_g = tf.Variable(tf.zeros([hidden_layer]))\n"
   ]
  },
  {
   "cell_type": "code",
   "execution_count": 47,
   "metadata": {},
   "outputs": [],
   "source": [
    "V = tf.Variable(tf.truncated_normal([hidden_layer, 1], stddev=0.05))\n",
    "b_v = tf.Variable(tf.zeros([1]))"
   ]
  },
  {
   "cell_type": "code",
   "execution_count": 48,
   "metadata": {},
   "outputs": [],
   "source": [
    "def LSTM_cell(input, prev_hidden_state, prev_cell_state):\n",
    "\n",
    "\n",
    "    it = tf.sigmoid(tf.matmul(input, U_i) + tf.matmul(prev_hidden_state, W_i) + b_i)\n",
    "\n",
    "    ft = tf.sigmoid(tf.matmul(input, U_f) + tf.matmul(prev_hidden_state, W_f) + b_f)\n",
    "\n",
    "    ot = tf.sigmoid(tf.matmul(input, U_o) + tf.matmul(prev_hidden_state, W_o) + b_o)\n",
    "\n",
    "    gt = tf.tanh(tf.matmul(input, U_g) + tf.matmul(prev_hidden_state, W_g) + b_g)\n",
    "\n",
    "    ct = (prev_cell_state * ft) + (it * gt)\n",
    "\n",
    "    ht = ot * tf.tanh(ct)\n",
    "\n",
    "    return ct, ht"
   ]
  },
  {
   "cell_type": "code",
   "execution_count": 49,
   "metadata": {},
   "outputs": [],
   "source": [
    "#initialize the list called y_hat for storing the predicted output\n",
    "y_hat = []\n",
    "\n",
    "#for each batch we compute the output and store it in the y_hat list\n",
    "for i in range(batch_size): \n",
    "  \n",
    "    #initialize hidden state and cell state for each batch\n",
    "    hidden_state = np.zeros([1, hidden_layer], dtype=np.float32) \n",
    "    cell_state = np.zeros([1, hidden_layer], dtype=np.float32)\n",
    "    \n",
    "    \n",
    "    #compute the hidden state and cell state of the LSTM cell for each time step\n",
    "    for t in range(window_size):\n",
    "        cell_state, hidden_state = LSTM_cell(tf.reshape(input[i][t], (-1, 1)), hidden_state, cell_state)\n",
    "        \n",
    "    #compute y_hat and append it to y_hat list\n",
    "    y_hat.append(tf.matmul(hidden_state, V) + b_v)\n"
   ]
  },
  {
   "cell_type": "code",
   "execution_count": 50,
   "metadata": {},
   "outputs": [],
   "source": [
    "losses = []\n",
    "\n",
    "for i in range(len(y_hat)):\n",
    "    losses.append(tf.losses.mean_squared_error(tf.reshape(target[i], (-1, 1)), y_hat[i]))\n",
    "    \n",
    "loss = tf.reduce_mean(losses)"
   ]
  },
  {
   "cell_type": "code",
   "execution_count": 52,
   "metadata": {},
   "outputs": [],
   "source": [
    "gradients = tf.gradients(loss, tf.trainable_variables())\n",
    "clipped, _ = tf.clip_by_global_norm(gradients, 4.0)"
   ]
  },
  {
   "cell_type": "code",
   "execution_count": 53,
   "metadata": {},
   "outputs": [],
   "source": [
    "optimizer = tf.train.AdamOptimizer(learning_rate).apply_gradients(zip(gradients, tf.trainable_variables()))"
   ]
  },
  {
   "cell_type": "code",
   "execution_count": 54,
   "metadata": {},
   "outputs": [],
   "source": [
    "session = tf.Session()\n",
    "session.run(tf.global_variables_initializer())"
   ]
  },
  {
   "cell_type": "code",
   "execution_count": 55,
   "metadata": {},
   "outputs": [],
   "source": [
    "epochs = 100"
   ]
  },
  {
   "cell_type": "code",
   "execution_count": 57,
   "metadata": {},
   "outputs": [
    {
     "name": "stdout",
     "output_type": "stream",
     "text": [
      "Epoch 0, Loss: 0.1976417899131775 \n",
      "Epoch 10, Loss: 0.05306567996740341 \n",
      "Epoch 20, Loss: 0.028433654457330704 \n",
      "Epoch 30, Loss: 0.019609201699495316 \n",
      "Epoch 40, Loss: 0.01100385282188654 \n",
      "Epoch 50, Loss: 0.012081906199455261 \n",
      "Epoch 60, Loss: 0.012871609069406986 \n",
      "Epoch 70, Loss: 0.008355761878192425 \n",
      "Epoch 80, Loss: 0.007925782352685928 \n",
      "Epoch 90, Loss: 0.0071204649284482 \n"
     ]
    }
   ],
   "source": [
    "for i in range(epochs):\n",
    "    train_predictions = []\n",
    "    index = 0\n",
    "    epoch_loss = []\n",
    "    \n",
    "    #Sample some batche of data and train the network\n",
    "    while(index + batch_size) <= len(X_train):\n",
    "        \n",
    "        #sample batch of data\n",
    "        X_batch = X_train[index:index+batch_size]\n",
    "        y_batch = y_train[index:index+batch_size]\n",
    "        \n",
    "        #predict the prices and compute loss\n",
    "        predicted, loss_val, _ = session.run([y_hat, loss, optimizer], feed_dict={input:X_batch, target:y_batch})\n",
    "        \n",
    "        #store the loss\n",
    "        epoch_loss.append(loss_val)\n",
    "        \n",
    "        #store the predictions\n",
    "        train_predictions.append(predicted)\n",
    "        index += batch_size\n",
    "        \n",
    "        \n",
    "    #print the loss on every 10 iterations\n",
    "    if (i % 10)== 0:\n",
    "        print('Epoch {}, Loss: {} '.format(i,np.mean(epoch_loss)))"
   ]
  },
  {
   "cell_type": "code",
   "execution_count": 61,
   "metadata": {},
   "outputs": [],
   "source": [
    "predicted_output = []\n",
    "i = 0\n",
    "while i+batch_size <= len(X_test): \n",
    "  \n",
    "    output = session.run([y_hat],feed_dict={input:X_test[i:i+batch_size]})\n",
    "    i += batch_size\n",
    "    predicted_output.append(output)"
   ]
  },
  {
   "cell_type": "code",
   "execution_count": 62,
   "metadata": {},
   "outputs": [
    {
     "data": {
      "text/plain": [
       "[[array([[-0.60512024]], dtype=float32),\n",
       "  array([[-0.6021243]], dtype=float32),\n",
       "  array([[-0.60142946]], dtype=float32),\n",
       "  array([[-0.6004782]], dtype=float32),\n",
       "  array([[-0.59963346]], dtype=float32),\n",
       "  array([[-0.6015973]], dtype=float32),\n",
       "  array([[-0.59769213]], dtype=float32)]]"
      ]
     },
     "execution_count": 62,
     "metadata": {},
     "output_type": "execute_result"
    }
   ],
   "source": [
    "predicted_output[0]"
   ]
  },
  {
   "cell_type": "code",
   "execution_count": 63,
   "metadata": {},
   "outputs": [],
   "source": [
    "predicted_values_test = []\n",
    "for i in range(len(predicted_output)):\n",
    "  for j in range(len(predicted_output[i][0])):\n",
    "    predicted_values_test.append(predicted_output[i][0][j])"
   ]
  },
  {
   "cell_type": "code",
   "execution_count": 64,
   "metadata": {},
   "outputs": [],
   "source": [
    "predictions = []\n",
    "for i in range(1280):\n",
    "      if i >= 1000:\n",
    "        predictions.append(predicted_values_test[i-1019])\n",
    "      else:\n",
    "        predictions.append(None)\n",
    "\n"
   ]
  },
  {
   "cell_type": "code",
   "execution_count": 65,
   "metadata": {},
   "outputs": [
    {
     "data": {
      "image/png": "[encoded data removed]",
      "text/plain": [
       "<Figure size 1152x504 with 1 Axes>"
      ]
     },
     "metadata": {
      "needs_background": "light"
     },
     "output_type": "display_data"
    }
   ],
   "source": [
    "plt.figure(figsize=(16, 7))\n",
    "plt.plot(data, label='Actual')\n",
    "plt.plot(predictions, label='Predicted')\n",
    "plt.legend()\n",
    "plt.xlabel('Days')\n",
    "plt.ylabel('Price')\n",
    "plt.grid()\n",
    "plt.show()"
   ]
  },
  {
   "cell_type": "code",
   "execution_count": 67,
   "metadata": {},
   "outputs": [
    {
     "data": {
      "text/plain": [
       "[array([[-0.60512024]], dtype=float32),\n",
       " array([[-0.6021243]], dtype=float32),\n",
       " array([[-0.60142946]], dtype=float32),\n",
       " array([[-0.6004782]], dtype=float32),\n",
       " array([[-0.59963346]], dtype=float32),\n",
       " array([[-0.6015973]], dtype=float32),\n",
       " array([[-0.59769213]], dtype=float32),\n",
       " array([[-0.5948828]], dtype=float32),\n",
       " array([[-0.5941645]], dtype=float32),\n",
       " array([[-0.59304684]], dtype=float32),\n",
       " array([[-0.592563]], dtype=float32),\n",
       " array([[-0.592826]], dtype=float32),\n",
       " array([[-0.5917964]], dtype=float32),\n",
       " array([[-0.59134203]], dtype=float32),\n",
       " array([[-0.5925649]], dtype=float32),\n",
       " array([[-0.59208214]], dtype=float32),\n",
       " array([[-0.59360117]], dtype=float32),\n",
       " array([[-0.5900199]], dtype=float32),\n",
       " array([[-0.58920425]], dtype=float32),\n",
       " array([[-0.5886266]], dtype=float32),\n",
       " array([[-0.58760726]], dtype=float32),\n",
       " array([[-0.5887652]], dtype=float32),\n",
       " array([[-0.58850884]], dtype=float32),\n",
       " array([[-0.5886619]], dtype=float32),\n",
       " array([[-0.588204]], dtype=float32),\n",
       " array([[-0.5872531]], dtype=float32),\n",
       " array([[-0.5868867]], dtype=float32),\n",
       " array([[-0.5854773]], dtype=float32),\n",
       " array([[-0.585565]], dtype=float32),\n",
       " array([[-0.5858406]], dtype=float32),\n",
       " array([[-0.58661723]], dtype=float32),\n",
       " array([[-0.5869449]], dtype=float32),\n",
       " array([[-0.5895233]], dtype=float32),\n",
       " array([[-0.5898402]], dtype=float32),\n",
       " array([[-0.5899726]], dtype=float32),\n",
       " array([[-0.5897489]], dtype=float32),\n",
       " array([[-0.5900174]], dtype=float32),\n",
       " array([[-0.58981943]], dtype=float32),\n",
       " array([[-0.5892739]], dtype=float32),\n",
       " array([[-0.5894838]], dtype=float32),\n",
       " array([[-0.5880428]], dtype=float32),\n",
       " array([[-0.5872782]], dtype=float32),\n",
       " array([[-0.58628327]], dtype=float32),\n",
       " array([[-0.5819413]], dtype=float32),\n",
       " array([[-0.5849366]], dtype=float32),\n",
       " array([[-0.5869299]], dtype=float32),\n",
       " array([[-0.59084713]], dtype=float32),\n",
       " array([[-0.59200066]], dtype=float32),\n",
       " array([[-0.59234643]], dtype=float32),\n",
       " array([[-0.5918229]], dtype=float32),\n",
       " array([[-0.59123516]], dtype=float32),\n",
       " array([[-0.59349847]], dtype=float32),\n",
       " array([[-0.5946456]], dtype=float32),\n",
       " array([[-0.5952758]], dtype=float32),\n",
       " array([[-0.5948551]], dtype=float32),\n",
       " array([[-0.59307307]], dtype=float32),\n",
       " array([[-0.5943043]], dtype=float32),\n",
       " array([[-0.59607106]], dtype=float32),\n",
       " array([[-0.5960887]], dtype=float32),\n",
       " array([[-0.5981248]], dtype=float32),\n",
       " array([[-0.5983646]], dtype=float32),\n",
       " array([[-0.5986087]], dtype=float32),\n",
       " array([[-0.5981761]], dtype=float32),\n",
       " array([[-0.59707737]], dtype=float32),\n",
       " array([[-0.59761375]], dtype=float32),\n",
       " array([[-0.59720933]], dtype=float32),\n",
       " array([[-0.5974849]], dtype=float32),\n",
       " array([[-0.5968877]], dtype=float32),\n",
       " array([[-0.59677476]], dtype=float32),\n",
       " array([[-0.59610075]], dtype=float32),\n",
       " array([[-0.5989115]], dtype=float32),\n",
       " array([[-0.6002647]], dtype=float32),\n",
       " array([[-0.60060525]], dtype=float32),\n",
       " array([[-0.6014632]], dtype=float32),\n",
       " array([[-0.6013004]], dtype=float32),\n",
       " array([[-0.60158336]], dtype=float32),\n",
       " array([[-0.601445]], dtype=float32),\n",
       " array([[-0.60149825]], dtype=float32),\n",
       " array([[-0.6025691]], dtype=float32),\n",
       " array([[-0.6025061]], dtype=float32),\n",
       " array([[-0.6025148]], dtype=float32),\n",
       " array([[-0.60270214]], dtype=float32),\n",
       " array([[-0.60233384]], dtype=float32),\n",
       " array([[-0.60244364]], dtype=float32),\n",
       " array([[-0.6027842]], dtype=float32),\n",
       " array([[-0.6015073]], dtype=float32),\n",
       " array([[-0.60072994]], dtype=float32),\n",
       " array([[-0.5997032]], dtype=float32),\n",
       " array([[-0.59947616]], dtype=float32),\n",
       " array([[-0.5994008]], dtype=float32),\n",
       " array([[-0.5994005]], dtype=float32),\n",
       " array([[-0.5995032]], dtype=float32),\n",
       " array([[-0.5987526]], dtype=float32),\n",
       " array([[-0.5990447]], dtype=float32),\n",
       " array([[-0.5987889]], dtype=float32),\n",
       " array([[-0.5997026]], dtype=float32),\n",
       " array([[-0.60025275]], dtype=float32),\n",
       " array([[-0.6006584]], dtype=float32),\n",
       " array([[-0.6006372]], dtype=float32),\n",
       " array([[-0.599688]], dtype=float32),\n",
       " array([[-0.5996557]], dtype=float32),\n",
       " array([[-0.59934944]], dtype=float32),\n",
       " array([[-0.5994696]], dtype=float32),\n",
       " array([[-0.5995023]], dtype=float32),\n",
       " array([[-0.5983565]], dtype=float32),\n",
       " array([[-0.59821016]], dtype=float32),\n",
       " array([[-0.5984346]], dtype=float32),\n",
       " array([[-0.5982001]], dtype=float32),\n",
       " array([[-0.59788275]], dtype=float32),\n",
       " array([[-0.5991513]], dtype=float32),\n",
       " array([[-0.6007566]], dtype=float32),\n",
       " array([[-0.60002744]], dtype=float32),\n",
       " array([[-0.5992753]], dtype=float32),\n",
       " array([[-0.5987504]], dtype=float32),\n",
       " array([[-0.599418]], dtype=float32),\n",
       " array([[-0.6002067]], dtype=float32),\n",
       " array([[-0.5998532]], dtype=float32),\n",
       " array([[-0.60201913]], dtype=float32),\n",
       " array([[-0.60232705]], dtype=float32),\n",
       " array([[-0.60208714]], dtype=float32),\n",
       " array([[-0.6035749]], dtype=float32),\n",
       " array([[-0.602113]], dtype=float32),\n",
       " array([[-0.60095114]], dtype=float32),\n",
       " array([[-0.60013103]], dtype=float32),\n",
       " array([[-0.60002714]], dtype=float32),\n",
       " array([[-0.6000557]], dtype=float32),\n",
       " array([[-0.60215324]], dtype=float32),\n",
       " array([[-0.6027286]], dtype=float32),\n",
       " array([[-0.60282904]], dtype=float32),\n",
       " array([[-0.6030439]], dtype=float32),\n",
       " array([[-0.60163265]], dtype=float32),\n",
       " array([[-0.6025892]], dtype=float32),\n",
       " array([[-0.6033957]], dtype=float32),\n",
       " array([[-0.59990746]], dtype=float32),\n",
       " array([[-0.59955007]], dtype=float32),\n",
       " array([[-0.5991239]], dtype=float32),\n",
       " array([[-0.5994448]], dtype=float32),\n",
       " array([[-0.5984121]], dtype=float32),\n",
       " array([[-0.5973974]], dtype=float32),\n",
       " array([[-0.59534043]], dtype=float32),\n",
       " array([[-0.5944921]], dtype=float32),\n",
       " array([[-0.59371364]], dtype=float32),\n",
       " array([[-0.5948821]], dtype=float32),\n",
       " array([[-0.59509164]], dtype=float32),\n",
       " array([[-0.5953467]], dtype=float32),\n",
       " array([[-0.5969966]], dtype=float32),\n",
       " array([[-0.5974601]], dtype=float32),\n",
       " array([[-0.59701836]], dtype=float32),\n",
       " array([[-0.59797084]], dtype=float32),\n",
       " array([[-0.5958816]], dtype=float32),\n",
       " array([[-0.5965909]], dtype=float32),\n",
       " array([[-0.59645426]], dtype=float32),\n",
       " array([[-0.59690046]], dtype=float32),\n",
       " array([[-0.5969503]], dtype=float32),\n",
       " array([[-0.5932228]], dtype=float32),\n",
       " array([[-0.5918146]], dtype=float32),\n",
       " array([[-0.59302855]], dtype=float32),\n",
       " array([[-0.5928498]], dtype=float32),\n",
       " array([[-0.5933804]], dtype=float32),\n",
       " array([[-0.59437585]], dtype=float32),\n",
       " array([[-0.5883975]], dtype=float32),\n",
       " array([[-0.58653724]], dtype=float32),\n",
       " array([[-0.5869312]], dtype=float32),\n",
       " array([[-0.5874216]], dtype=float32),\n",
       " array([[-0.58776593]], dtype=float32),\n",
       " array([[-0.58574396]], dtype=float32),\n",
       " array([[-0.5851388]], dtype=float32),\n",
       " array([[-0.5857899]], dtype=float32),\n",
       " array([[-0.5864568]], dtype=float32),\n",
       " array([[-0.58998954]], dtype=float32),\n",
       " array([[-0.5902049]], dtype=float32),\n",
       " array([[-0.5907501]], dtype=float32),\n",
       " array([[-0.5902098]], dtype=float32),\n",
       " array([[-0.59047884]], dtype=float32),\n",
       " array([[-0.58890814]], dtype=float32),\n",
       " array([[-0.59010893]], dtype=float32),\n",
       " array([[-0.5937144]], dtype=float32),\n",
       " array([[-0.5948829]], dtype=float32),\n",
       " array([[-0.5954164]], dtype=float32),\n",
       " array([[-0.5991624]], dtype=float32),\n",
       " array([[-0.59918386]], dtype=float32),\n",
       " array([[-0.5990846]], dtype=float32),\n",
       " array([[-0.5992556]], dtype=float32),\n",
       " array([[-0.599344]], dtype=float32),\n",
       " array([[-0.59775406]], dtype=float32),\n",
       " array([[-0.59751135]], dtype=float32),\n",
       " array([[-0.59809756]], dtype=float32),\n",
       " array([[-0.5994354]], dtype=float32),\n",
       " array([[-0.5983013]], dtype=float32),\n",
       " array([[-0.5995372]], dtype=float32),\n",
       " array([[-0.60020196]], dtype=float32),\n",
       " array([[-0.59533024]], dtype=float32),\n",
       " array([[-0.59920466]], dtype=float32),\n",
       " array([[-0.60229135]], dtype=float32),\n",
       " array([[-0.60339713]], dtype=float32),\n",
       " array([[-0.6042988]], dtype=float32),\n",
       " array([[-0.60332793]], dtype=float32),\n",
       " array([[-0.60267437]], dtype=float32),\n",
       " array([[-0.6017095]], dtype=float32),\n",
       " array([[-0.6027819]], dtype=float32),\n",
       " array([[-0.604349]], dtype=float32),\n",
       " array([[-0.6025005]], dtype=float32),\n",
       " array([[-0.6020044]], dtype=float32),\n",
       " array([[-0.5996811]], dtype=float32),\n",
       " array([[-0.60137147]], dtype=float32),\n",
       " array([[-0.60360086]], dtype=float32),\n",
       " array([[-0.6011071]], dtype=float32),\n",
       " array([[-0.60065883]], dtype=float32),\n",
       " array([[-0.59974414]], dtype=float32),\n",
       " array([[-0.59395695]], dtype=float32),\n",
       " array([[-0.591945]], dtype=float32),\n",
       " array([[-0.5944664]], dtype=float32),\n",
       " array([[-0.59779906]], dtype=float32),\n",
       " array([[-0.60017985]], dtype=float32),\n",
       " array([[-0.60239273]], dtype=float32),\n",
       " array([[-0.60252404]], dtype=float32),\n",
       " array([[-0.6060537]], dtype=float32),\n",
       " array([[-0.60309637]], dtype=float32),\n",
       " array([[-0.61112547]], dtype=float32),\n",
       " array([[-0.6124638]], dtype=float32),\n",
       " array([[-0.60918486]], dtype=float32),\n",
       " array([[-0.6070552]], dtype=float32),\n",
       " array([[-0.6239746]], dtype=float32),\n",
       " array([[-0.59837514]], dtype=float32),\n",
       " array([[-0.5892291]], dtype=float32),\n",
       " array([[-0.5867788]], dtype=float32),\n",
       " array([[-0.583415]], dtype=float32),\n",
       " array([[-0.58767]], dtype=float32),\n",
       " array([[-0.5872462]], dtype=float32),\n",
       " array([[-0.5763717]], dtype=float32),\n",
       " array([[-0.5746168]], dtype=float32),\n",
       " array([[-0.57395744]], dtype=float32),\n",
       " array([[-0.57372713]], dtype=float32),\n",
       " array([[-0.5749628]], dtype=float32),\n",
       " array([[-0.57457566]], dtype=float32),\n",
       " array([[-0.5745619]], dtype=float32),\n",
       " array([[-0.5745619]], dtype=float32),\n",
       " array([[-0.5745619]], dtype=float32),\n",
       " array([[-0.5745619]], dtype=float32),\n",
       " array([[-0.5745619]], dtype=float32),\n",
       " array([[-0.5745619]], dtype=float32),\n",
       " array([[-0.5745619]], dtype=float32),\n",
       " array([[-0.5745619]], dtype=float32),\n",
       " array([[-0.5745619]], dtype=float32),\n",
       " array([[-0.5745619]], dtype=float32),\n",
       " array([[-0.5745619]], dtype=float32),\n",
       " array([[-0.5745619]], dtype=float32),\n",
       " array([[-0.5745619]], dtype=float32),\n",
       " array([[-0.5745619]], dtype=float32),\n",
       " array([[-0.5745619]], dtype=float32),\n",
       " array([[-0.5724829]], dtype=float32),\n",
       " array([[-0.5721296]], dtype=float32),\n",
       " array([[-0.5720069]], dtype=float32),\n",
       " array([[-0.5719596]], dtype=float32),\n",
       " array([[-0.5721987]], dtype=float32),\n",
       " array([[-0.57212394]], dtype=float32),\n",
       " array([[-0.569937]], dtype=float32),\n",
       " array([[-0.56956506]], dtype=float32),\n",
       " array([[-0.56642157]], dtype=float32),\n",
       " array([[-0.565857]], dtype=float32),\n",
       " array([[-0.56530184]], dtype=float32),\n",
       " array([[-0.565054]], dtype=float32),\n",
       " array([[-0.5655386]], dtype=float32),\n",
       " array([[-0.5654535]], dtype=float32),\n",
       " array([[-0.5653418]], dtype=float32),\n",
       " array([[-0.5652922]], dtype=float32)]"
      ]
     },
     "execution_count": 67,
     "metadata": {},
     "output_type": "execute_result"
    }
   ],
   "source": [
    "predicted_values_test"
   ]
  },
  {
   "cell_type": "code",
   "execution_count": null,
   "metadata": {},
   "outputs": [],
   "source": []
  }
 ],
 "metadata": {
  "kernelspec": {
   "display_name": "Python 3",
   "language": "python",
   "name": "python3"
  },
  "language_info": {
   "codemirror_mode": {
    "name": "ipython",
    "version": 3
   },
   "file_extension": ".py",
   "mimetype": "text/x-python",
   "name": "python",
   "nbconvert_exporter": "python",
   "pygments_lexer": "ipython3",
   "version": "3.6.3"
  }
 },
 "nbformat": 4,
 "nbformat_minor": 2
}
